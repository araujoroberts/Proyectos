{
  "nbformat": 4,
  "nbformat_minor": 0,
  "metadata": {
    "colab": {
      "name": "Ecuación de onda 1D.ipynb",
      "provenance": [],
      "authorship_tag": "ABX9TyMGuVcdCaYXUnk8jiM8QQTb",
      "include_colab_link": true
    },
    "kernelspec": {
      "name": "python3",
      "display_name": "Python 3"
    }
  },
  "cells": [
    {
      "cell_type": "markdown",
      "metadata": {
        "id": "view-in-github",
        "colab_type": "text"
      },
      "source": [
        "<a href=\"https://colab.research.google.com/github/araujoroberts/Proyectos/blob/main/Ecuaci%C3%B3n_de_onda_1D.ipynb\" target=\"_parent\"><img src=\"https://colab.research.google.com/assets/colab-badge.svg\" alt=\"Open In Colab\"/></a>"
      ]
    },
    {
      "cell_type": "markdown",
      "metadata": {
        "id": "NRnckAUnzCnC"
      },
      "source": [
        "#Solucion de la ecuacion de onda 1D\n",
        "\n",
        "\\begin{equation}\n",
        "\\frac{\\partial^2 u}{\\partial t^2}=c^2\\frac{\\partial ^2 u}{\\partial x^2}\n",
        "\\end{equation}\n",
        "Para esto vamos a discretizar usando:\n",
        "\n",
        "$$\n",
        "\\frac{\\partial ^2u}{\\partial x^2}=\\frac{u(x+h,t)-2u(x,t)+u(x-h,t)}{dx^2}\n",
        "$$\n",
        "\n",
        "y para el tiempo\n",
        "\n",
        "$$\n",
        "\\frac{\\partial ^2u}{\\partial t^2}=\\frac{u(x,t+k)-2u(x,t)+u(x,t-k)}{dt^2}\n",
        "$$\n",
        "\n",
        "Haciendo:\n",
        "$$\n",
        "u(x,t)=u^j_i \\ \\ , \\ \\ u(x+dx,t)=u^j_{i+1}\\ \\ , \\ \\ u(x-dx.t)=u^j_{i-1}\n",
        "$$\n",
        "y\n",
        "$$\n",
        "u(x,t+dt)=u^{j+1}_i\\ \\ \\ \\ y \\ \\ \\ \\ u(x,t-dt)=u^{j-1}_i\n",
        "$$\n",
        "\n",
        "Lo anterior quda:\n",
        "$$\n",
        "\\frac{\\partial ^2u}{\\partial x^2}=\\frac{u^j_{i+1}-2u^j_i+u^j_{i-1}}{dx^2}\n",
        "$$\n",
        "y\n",
        "$$\n",
        "\\frac{\\partial ^2u}{\\partial t^2}=\\frac{u^{j+1}_i-2u^j_i+u^{j+1}_i}{dt^2}\n",
        "$$\n",
        "donde el dominio fisico sera \n",
        "$$\n",
        "0<x<L \\ \\ \\ \\ \\ ;L=1m\n",
        "$$\n",
        "y la velocidad de propagacion:\n",
        "$$\n",
        "c=1.5\\ m/s\n",
        "$$\n",
        "Condiciones iniciales\n",
        "$$\n",
        "u(x,0)=5m\\ \\ \\ \\ \\ \\ \\ \\ \\left( \\frac{\\partial u}{\\partial t} \\right)_{t=0} =0\\ m/s\n",
        "$$\n",
        "Las condiciones de frontera\n",
        "$$\n",
        "u(0,t)=0\\ m \\ \\ \\ \\ \\ \\ \\ y \\ \\ \\ \\ \\ \\ \\ u(L,t)=0\\ m\n",
        "$$\n",
        "Para la discretizacion espacial tomamos 5 nodos, entonces:\n",
        "$$\n",
        "N_x=5\\ \\ \\ \\ \\ h=\\frac{L}{N_x-1}=0.25\n",
        "$$\n",
        "Aqui el contador corre como  $i=0,1,2,...,N_x-1$ esto es\n",
        "\n",
        "$$\n",
        "x=(0\\ ,\\ 0.25\\ ,\\ 0.5\\ ,\\ 0.75\\ ,\\ 1)\n",
        "$$\n",
        "Expresando la ecuacion (1) en diferencias finitas\n",
        "\n",
        "$$\n",
        "\\frac{u^{j+1}_i-2u^j_i+u^{j-1}_i}{dt^2}=c^2\\left( \\frac{u^j_{i+1}-2u^j_i+u^j_{i-1}}{dx^2}\n",
        "  \\right)\n",
        "$$\n",
        "\n",
        "Como no se conoce el termino $u^{j-1}_i$ usamos la condicion inicial $(\\partial u/\\partial t)_{t=0}=0$\n",
        "\n",
        "$$\n",
        "\\frac{u^{j+1}_i-u^{j-1}_i}{2dt}=0 \\ \\ \\ \\ \\ \\rightarrow \\ \\ \\ \\ \\ u^{j-1}_i=u^{j+1}_i\n",
        "$$\n",
        "\n",
        "sustituyendo esto en la ecuacion diferencial\n",
        "\n",
        "$$\n",
        "\\frac{u^{j+1}_i-u^j_i}{dt^2}=\\frac{c^2}{2}\\left( \\frac{u^j_{i+1}-2u^j_i+u^j_{i-1}}{dx^2}\n",
        "  \\right)\n",
        "$$\n",
        "\n",
        "$$\n",
        "u^{j+1}_i=u^j_i+\\frac{c^2dt^2}{2}\\left( \\frac{u^j_{i+1}-2u^j_i+u^j_{i-1}}{dx^2}\n",
        "  \\right)\n",
        "$$\n",
        "Entonces la ecuacion para la primera iteracion es\n",
        "\n",
        "$$\n",
        "u^{j+1}_i=\\left( \\frac{c^2dt^2}{2dx^2}\\right)u^j_{i+1}+\\left(1-c^2\\frac{dt^2}{dx^2} \\right)u^j_i+\\left( \\frac{c^2dt^2}{2dx^2}\\right)u^j_{i-1}\n",
        "$$\n",
        "\n",
        "Del coeficiente de $u^j_i$ obtenemos el criterio de estabilidad para el paso de tiempo\n",
        "\n",
        "$$\n",
        "dt<dx/c\n",
        "$$\n",
        "\n",
        "Para la segunda iteracion ya se conoce el termino $u^{j-1}_i$ por lo tanto, la ecuacion que vale para todos los demas instantes de tiempo sera\n",
        "$$\n",
        "u^{j+1}_i=\\left( \\frac{c^2dt^2}{dx^2}\\right)u^j_{i+1}+2\\left(1-c^2\\frac{dt^2}{dx^2} \\right)u^j_i+\\left( \\frac{c^2dt^2}{dx^2}\\right)u^j_{i-1}-u^{j-1}_i\n",
        "$$"
      ]
    },
    {
      "cell_type": "code",
      "metadata": {
        "colab": {
          "base_uri": "https://localhost:8080/"
        },
        "id": "8kGyARo7y56P",
        "outputId": "e7eba422-9af1-4da4-bbae-0a5b9edb77bd"
      },
      "source": [
        "import numpy as np\n",
        "import matplotlib.pyplot as plt\n",
        "\n",
        "#Datos\n",
        "L=1.\n",
        "c=1.5\n",
        "#Discretizacion\n",
        "N=5\n",
        "x=np.linspace(0,l,N)\n",
        "dx=l/(N-1)\n",
        "#Condiciones iniciales\n",
        "t=0.\n",
        "uinic=0.5\n",
        "u=np.ones(N)*uinic\n",
        "v=np.zeros(N)\n",
        "#Condiciones de frontera\n",
        "u0=0\n",
        "uL=0\n",
        "u[0]=u0\n",
        "u[-1]=ul \n",
        "#Despues de cacular el critero de estbilidad tomamos dt=0.1 \n",
        "dt=0.1\n",
        "tfin=20.\n",
        "#Inicializar las deformaciones\n",
        "unew=u.copy()\n",
        "uold=u.copy()\n",
        "#vector de soluciones\n",
        "usol=[u]\n",
        "vsol=[v]\n",
        "tsol=[t]\n",
        "\n",
        "#Loop sobre el tiempo\n",
        "#while t<tfin:\n",
        "while t<=tfin:\n",
        "  #primera iteracion\n",
        "  if t==0.:\n",
        "    #Loop resolver el espacio\n",
        "    for i in range(N):\n",
        "      if i==0:\n",
        "        unew[i]=u0\n",
        "      elif i==N-1:\n",
        "        unew[i]=uL\n",
        "      else:\n",
        "        unew[i]=(c**2*dt**2/(2*dx**2))*u[i-1]+(1-c**2*dt**2/dx**2)*u[i]+(c**2*dt**2/(2*dx**2))*u[i+1]\n",
        "\n",
        "\n",
        "  #segunda iteracion\n",
        "  else:\n",
        "    for i in range(N):\n",
        "      if i==0:\n",
        "        unew[i]=u0\n",
        "      elif i==N-1:\n",
        "        unew[i]=uL\n",
        "      else:\n",
        "        unew[i]=(c**2*dt**2/dx**2)*u[i-1]+(2-2*c**2*dt**2/dx**2)*u[i]+(c**2*dt**2/dx**2)*u[i+1]-uold[i]\n",
        "\n",
        "\n",
        "  uold=u.copy()\n",
        "  u=unew.copy()\n",
        "  v=(unew-uold)/(2*dt)\n",
        "  t=t+dt \n",
        "  #lista de estados: cada elemento de esta lista es otra lista con las poss/vel de todas las particulas en dicho instante\n",
        "  usol.append(u)\n",
        "  vsol.append(v)\n",
        "  #lista de tiempos\n",
        "  tsol.append(t)\n",
        "\n",
        "#Convertimos las listas a vectores para poder trabajar con ellas mejor\n",
        "usol=np.round(np.array(usol),3)\n",
        "vsol=np.round(np.array(vsol),3)\n",
        "tsol=np.round(np.array(tsol),3)\n",
        "#grafiquemos en i=100\n",
        "#i=2\n",
        "#plt.plot(tsol,usol.T[i],'b-')\n",
        "print(usol[1])\n"
      ],
      "execution_count": 43,
      "outputs": [
        {
          "output_type": "stream",
          "text": [
            "[0.   0.41 0.5  0.41 0.  ]\n"
          ],
          "name": "stdout"
        }
      ]
    },
    {
      "cell_type": "code",
      "metadata": {
        "colab": {
          "base_uri": "https://localhost:8080/",
          "height": 281
        },
        "id": "noUEVy-uD8K4",
        "outputId": "40007201-bf2d-41ab-8e20-406033a8fdfd"
      },
      "source": [
        "import matplotlib.animation as animation\n",
        "fig=plt.figure()\n",
        "ax=plt.gca()\n",
        "\n",
        "def actualizar(i):\n",
        "  ax.clear()\n",
        "  plt.plot(x,usol[i],'ro')\n",
        "  plt.title(str(tsol[i]))\n",
        "  plt.xlim(0,L)\n",
        "  plt.ylim(-1,1)\n",
        "\n",
        "\n",
        "ani=animation.FuncAnimation(fig, actualizar, range(len(tsol)))\n",
        "plt.show()"
      ],
      "execution_count": 40,
      "outputs": [
        {
          "output_type": "display_data",
          "data": {
            "image/png": "[encoded data removed]",
            "text/plain": [
              "<Figure size 432x288 with 1 Axes>"
            ]
          },
          "metadata": {
            "tags": [],
            "needs_background": "light"
          }
        }
      ]
    },
    {
      "cell_type": "code",
      "metadata": {
        "id": "paL2S0HCSJMz"
      },
      "source": [
        ""
      ],
      "execution_count": null,
      "outputs": []
    }
  ]
}
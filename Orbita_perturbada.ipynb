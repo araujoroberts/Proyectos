{
  "nbformat": 4,
  "nbformat_minor": 0,
  "metadata": {
    "colab": {
      "name": "Orbita perturbada.ipynb",
      "provenance": [],
      "authorship_tag": "ABX9TyMVSypWnxbjUugX/33LRfrt",
      "include_colab_link": true
    },
    "kernelspec": {
      "display_name": "Python 3",
      "name": "python3"
    },
    "language_info": {
      "name": "python"
    }
  },
  "cells": [
    {
      "cell_type": "markdown",
      "metadata": {
        "id": "view-in-github",
        "colab_type": "text"
      },
      "source": [
        "<a href=\"https://colab.research.google.com/github/araujoroberts/Proyectos/blob/main/Orbita_perturbada.ipynb\" target=\"_parent\"><img src=\"https://colab.research.google.com/assets/colab-badge.svg\" alt=\"Open In Colab\"/></a>"
      ]
    },
    {
      "cell_type": "code",
      "metadata": {
        "id": "nBfoVXPvEwA1"
      },
      "source": [
        "import matplotlib.pyplot as plt\n",
        "import pandas as pd\n",
        "import numpy as np\n",
        "import math\n",
        "from numpy import sin , cos , pi "
      ],
      "execution_count": null,
      "outputs": []
    },
    {
      "cell_type": "markdown",
      "metadata": {
        "id": "3aCoKSYpEOAO"
      },
      "source": [
        "#Subrutinas\n",
        "\n",
        "**1) Transformacion de coordenadas geodesicas a cartesianas**"
      ]
    },
    {
      "cell_type": "code",
      "metadata": {
        "id": "rD2Cx2S1EWol"
      },
      "source": [
        "def GC(phi,lam):\n",
        "  #Semi eje mayor y menor\n",
        "  a=6.3781370 ; b=6.3567523\n",
        "  phi=phi*pi/180 ; lam=lam*pi/180\n",
        "\n",
        "  N = a**2 / ( a**2 * cos(phi)**2 + b**2 * sin(phi)**2 )**0.5\n",
        "  x = N * cos(lam) * cos(phi) \n",
        "  y = N * sin(lam) * cos(phi)\n",
        "  z = N * (b/a)**2  * sin(phi)\n",
        "\n",
        "  pos=np.array([ x , y , z ])\n",
        "\n",
        "  return pos\n"
      ],
      "execution_count": null,
      "outputs": []
    },
    {
      "cell_type": "markdown",
      "metadata": {
        "id": "r_HfagJ5EBWN"
      },
      "source": [
        "**2) transformacion de coordenadas cartesianas a geodesicas** "
      ]
    },
    {
      "cell_type": "code",
      "metadata": {
        "id": "mJ641BNxENaG"
      },
      "source": [
        "def CG(x,y,z):\n",
        "  #Semi eje mayor y menor\n",
        "  a=6.3781370 ; b=6.3567523\n",
        "\n",
        "  # -- Calculo de la longitud --\n",
        "  \n",
        "  # Primer cuadrante\n",
        "  if x>0 and y>0: \n",
        "    longitud = math.atan( y / x )\n",
        "\n",
        "  # Segundo y tercer cuadrante\n",
        "  if x<0:\n",
        "    longitud = math.atan( y / x ) + pi \n",
        "\n",
        "  # Cuarto cuadrante\n",
        "  if x>0 and y<0:\n",
        "    longitud = math.atan( y / x ) + 2*pi \n",
        "\n",
        "  phi = longitud\n",
        "\n",
        "  if phi>=0 and phi<=pi:\n",
        "\t  longitud=phi\n",
        "\n",
        "  if (phi>pi and phi<2*pi):\n",
        "\t  longitud=-2*pi+phi\n",
        "\n",
        "  # -- Calculo de la latitud --\n",
        "\n",
        "  e = (  1 - (b/a)**2  )**0.5\n",
        "  eps = e**2 / ( 1 - e**2 ) \n",
        "  p = ( x**2 + y**2 )**0.5 ; q = math.atan(z*a/p/b)\n",
        "\n",
        "  latitud = math.atan( (z+eps*b*sin(q)**3) / (p-e**2*a*cos(q)**3))\n",
        "\n",
        "  # Subrutina que transforma coord's esfericas en terrestres\n",
        "\n",
        "  \n",
        "  latitud=latitud*180/pi\n",
        "  longitud=longitud*180/pi\n",
        "\n",
        "  latitud=round(latitud,6)\n",
        "  longitud=round(longitud,6)\n",
        "  return latitud, longitud\n",
        "\n"
      ],
      "execution_count": null,
      "outputs": []
    },
    {
      "cell_type": "markdown",
      "metadata": {
        "id": "AEZ4WR8GEdXu"
      },
      "source": [
        "**3) Newton-Raphson para calcular E**"
      ]
    },
    {
      "cell_type": "code",
      "metadata": {
        "id": "cZ1wA3GaEl_s"
      },
      "source": [
        "def NR(M_,e_,E_):\n",
        "  import numpy as np\n",
        "  fx  = lambda E_: E_-e_*np.sin(E_)-M_\n",
        "  dfx = lambda E_: 1-e_*np.cos(E_)\n",
        "  \n",
        "  tol=1e-8\n",
        "  dE=abs(2*tol)\n",
        "  Eold=E_\n",
        "\n",
        "  while (dE >= tol):\n",
        "    Enew=Eold-fx(Eold)/dfx(Eold)\n",
        "    dE=abs(Enew-Eold)\n",
        "    Eold=Enew\n",
        "  return Eold"
      ],
      "execution_count": null,
      "outputs": []
    },
    {
      "cell_type": "markdown",
      "metadata": {
        "id": "NmejEmjbsfGm"
      },
      "source": [
        "**4) Subrutina que calcula la posicion de un punto sobre la superficie terrestre al tiempo $t$ debido a su rotacion**"
      ]
    },
    {
      "cell_type": "code",
      "metadata": {
        "id": "Eclw7je2qKS0"
      },
      "source": [
        "def W(A,t_):\n",
        "\n",
        "  # Angulo que rotó la tierra al tiempo t\n",
        "  theta = lambda t_: 7.2722052e-5*t_\n",
        "\n",
        "  # Matriz de rotacion al rededor del eje z\n",
        "  Rz=np.array([ [ cos(theta(dt)) , -sin(theta(dt)) , 0 ],\n",
        "                [ sin(theta(dt)) ,  cos(theta(dt)) , 0 ],\n",
        "                [       0         ,         0        , 1 ]  ])\n",
        "\n",
        "  Ar = Rz @ A\n",
        "\n",
        "  return Ar"
      ],
      "execution_count": null,
      "outputs": []
    },
    {
      "cell_type": "markdown",
      "metadata": {
        "id": "cfbAP6L38s5u"
      },
      "source": [
        "## Propagador $J_2$\n",
        "Algoritmo empleado para el calculo de orbitas cuando se considera el bulto ecuatorial.\n",
        "\n",
        "**Algoritmo**\n",
        "\n",
        "1) Definir los vectores $\\vec{r}_1$ y $\\vec{r}_2$\n",
        "\n",
        "2) Obtener el vector de estado $\\{\\ h_0\\ ,\\ a_0\\ ,\\ e_0\\ ,\\ i_0\\ ,\\ \\Omega_0\\ ,\\ \\omega_0\\ \\}$ \n",
        "\n",
        "3) Calcular $\\theta$ transcurrido $\\Delta t$\n",
        "\n",
        "4) Usar $\\theta$ para calcular $\\vec{r}\\ '$ transcurrido $\\Delta t$ \n",
        "\n",
        "5) Calcular $\\dot \\Omega $ y $\\dot \\omega$ \n",
        "\n",
        "6) Usar $\\dot \\Omega $ y $\\dot \\omega$ para calcular los nuevos $\\Omega$ y $\\omega$ \n",
        "\n",
        "7) Usar $\\Omega$ y $\\omega$ para convertir $\\vec{r}\\ '$ a $\\vec{r}$\n",
        "\n",
        "8) Comparar $\\vec{r}$ con $\\vec{r}_2$ y calcular $\\delta \\omega$ y $\\delta \\Omega$"
      ]
    },
    {
      "cell_type": "markdown",
      "metadata": {
        "id": "_MJlzD1i3xaT"
      },
      "source": [
        "_________________________________________________________"
      ]
    },
    {
      "cell_type": "markdown",
      "metadata": {
        "id": "EuUF7mJN30tP"
      },
      "source": [
        "**1) definimos los vectores $\\vec{r}_1$, $\\vec{r}_2$ y $\\Delta t$**"
      ]
    },
    {
      "cell_type": "code",
      "metadata": {
        "id": "N3d078FbdMNe"
      },
      "source": [
        "#Posicion inicial del meteorito y su norma [ Mm ]\n",
        "r0=np.array([0.50000,-6.50000,4.50000]) \n",
        "#r0=np.array([-3.670,-3.870,4.400])\n",
        "nr0=np.linalg.norm(r0)\n",
        "\n",
        "#Velocidad inicial del meteorito y su norma [ Mm/s ]\n",
        "v0=np.array([ 1.80798627e-03 , 2.20380644e-03 , -4.17498856e-05]) \n",
        "#v0=np.array([0.00136451, -0.00039703 , 0.00117139])\n",
        "#v0=np.array([4.7,-7.4,1])*0.001\n",
        "nv0=np.linalg.norm(v0)\n",
        "\n",
        "# Tiempo de vuelo [segundos]\n",
        "dt=8*60 \n"
      ],
      "execution_count": null,
      "outputs": []
    },
    {
      "cell_type": "markdown",
      "metadata": {
        "id": "7KNq0oBl4D2d"
      },
      "source": [
        "**2) Calculamos los elementos orbitales**"
      ]
    },
    {
      "cell_type": "code",
      "metadata": {
        "colab": {
          "base_uri": "https://localhost:8080/"
        },
        "id": "06AyL8yjdV5b",
        "outputId": "9dcf3ba1-b9c0-4a88-d445-55fa2bf66461"
      },
      "source": [
        "# Definimos la base gecentrica\n",
        "i=np.array([1,0,0])\n",
        "j=np.array([0,1,0])\n",
        "k=np.array([0,0,1])\n",
        "\n",
        "#Calculo de los elementos orbitales { h , i , e , omega0 , w0 , nu0 }\n",
        "H=np.cross(r0,v0)\n",
        "h=np.linalg.norm(H) #---------------------- > h\n",
        "\n",
        "\n",
        "# Calculamos el vector nodo\n",
        "N=np.cross(k,H)\n",
        "n=np.linalg.norm(N)\n",
        "\n",
        "# Calculamos el vector de exentricidad\n",
        "GM=3.98613e-4\n",
        "ex = np.cross(v0,H) / GM -  r0 / nr0\n",
        "e=np.linalg.norm(ex) #------------------------------> e\n",
        "\n",
        "# Calculamos p y a\n",
        "p=h**2/GM\n",
        "a=p/(1-e**2)\n",
        "\n",
        "# Calculamos los vectores base en el sistema perifocal\n",
        "ip=ex/e\n",
        "kp=H/h\n",
        "jp=np.cross(kp,ip)\n",
        "\n",
        "# Calculamos la inclinacion del plano orbital\n",
        "inclinacion=math.acos(H[2]/h) #------------------------------> i\n",
        "\n",
        "\n",
        "# Calculamos la longitud del nodo acendente\n",
        "if N[1]>0:\n",
        "  OMEGA=math.acos(N[0]/n)  \n",
        "if N[1]<0:          \n",
        "  OMEGA=-math.acos(N[0]/n)\n",
        "\n",
        "omega0=OMEGA #-------------------------------------------> omega0\n",
        "\n",
        "# Calculamos el argumento del perigeo\n",
        "if ex[-1]>0:\n",
        "  w=math.acos( np.dot(N,ex) / (n*e) )\n",
        "if ex[-1]<0: \n",
        "  w=-math.acos( np.dot(N,ex) / (n*e) )\n",
        "\n",
        "w0=w #----------------------------------------------------> w0\n",
        "\n",
        "# Calculamos el desfase (angulo inicial despecto al foco)\n",
        "prueba=np.dot(r0,v0)\n",
        "\n",
        "if prueba > 0 :\n",
        "  nu0=math.acos(np.dot(ex,r0)/(e*nr0))\n",
        "\n",
        "if prueba < 0 : #--------------------------------------------------> nu0\n",
        "  nu0=-math.acos(np.dot(ex,r0)/(e*nr0))\n",
        "\n",
        "print('Los elementos orbitales iniciales son:')\n",
        "print('--------------------------------------')\n",
        "print('h=',h)\n",
        "print('i=',inclinacion*180/np.pi,'°')\n",
        "print('e=',e)\n",
        "print('omega0=',omega0*180/np.pi,'°')\n",
        "print('w0=',w0*180/np.pi,'°')\n",
        "print('nu0=',nu0*180/np.pi,'°')"
      ],
      "execution_count": null,
      "outputs": [
        {
          "output_type": "stream",
          "text": [
            "Los elementos orbitales iniciales son:\n",
            "--------------------------------------\n",
            "h= 0.01802206200141971\n",
            "i= 44.50194965550814 °\n",
            "e= 0.9004950056037042\n",
            "omega0= -130.21911764389526 °\n",
            "w0= -130.807743686958 °\n",
            "nu0= -175.05186372898828 °\n"
          ],
          "name": "stdout"
        }
      ]
    },
    {
      "cell_type": "markdown",
      "metadata": {
        "id": "EX2qk2Cg42Lt"
      },
      "source": [
        "**3) Calculamos $\\theta$ transcurrido $\\Delta t$**"
      ]
    },
    {
      "cell_type": "code",
      "metadata": {
        "colab": {
          "base_uri": "https://localhost:8080/"
        },
        "id": "7lzwZHCWe3io",
        "outputId": "52c4b04e-9975-47f1-fdb5-1d6bccded931"
      },
      "source": [
        "# Calculamos el periodo de la orbita\n",
        "T=2*np.pi*a**1.5/math.sqrt(GM) \n",
        "\n",
        "print('a=',a)\n",
        "print('T=',T,'s')\n",
        "\n",
        "#calculamos q=2pi/T\n",
        "q=2*np.pi/T\n",
        "\n",
        "#Calculamos E0\n",
        "E0=2*math.atan(math.sqrt((1-e)/(1+e))*math.tan(nu0/2))\n",
        "\n",
        "#Calculamos t0\n",
        "t0=( E0-e*np.sin(E0) )/q \n",
        "print('t0=',round(t0,3),'s')\n",
        "\n",
        "#calculamos el tf\n",
        "tf=t0+dt\n",
        "\n",
        "#Calculamos el numero de vueltas\n",
        "nv=tf/T\n",
        "\n",
        "t32=(nv%1)*T\n",
        "\n",
        "#Calculamos la anomalia media a ese tiempo\n",
        "M32=q*t32\n",
        "\n",
        "# E de arranque\n",
        "if M32 >= np.pi:\n",
        "  Ep=M32+e/2\n",
        "\n",
        "if M32 < np.pi:\n",
        "  Ep=M32-e/2\n",
        "\n",
        "#Calculamos anomalia excentrica a ese tiempo E32\n",
        "E32=NR(M32,e,Ep)\n",
        "\n",
        "#Calculamos nu32\n",
        "nu32=2*math.atan(math.sqrt((1+e)/(1-e))*math.tan(E32/2))+2*np.pi\n",
        "print('nu32=',nu32*180/np.pi,'°')"
      ],
      "execution_count": null,
      "outputs": [
        {
          "output_type": "stream",
          "text": [
            "a= 4.30869634622583\n",
            "T= 2814.640755318885 s\n",
            "t0= -1093.013 s\n",
            "nu32= 194.42510739546088 °\n"
          ],
          "name": "stdout"
        }
      ]
    },
    {
      "cell_type": "markdown",
      "metadata": {
        "id": "QBS5rXhC5S8q"
      },
      "source": [
        "**4) Usamos $\\theta$ para calcular $\\vec{r}\\ '$**"
      ]
    },
    {
      "cell_type": "code",
      "metadata": {
        "id": "rDyRZpPIivV5"
      },
      "source": [
        "r=p/(1+e*np.cos(nu32))\n",
        "x=r*np.cos(nu32) ; y=r*np.sin(nu32)\n",
        "rft=np.array([x,y,0])"
      ],
      "execution_count": null,
      "outputs": []
    },
    {
      "cell_type": "markdown",
      "metadata": {
        "id": "9pSopwc-5nXb"
      },
      "source": [
        "**5) Calculamos $\\dot \\Omega$ y $\\dot \\omega$**"
      ]
    },
    {
      "cell_type": "code",
      "metadata": {
        "colab": {
          "base_uri": "https://localhost:8080/"
        },
        "id": "OsryqrfY5kDI",
        "outputId": "a606dedc-2413-4512-f8fe-281163313c45"
      },
      "source": [
        "#Antes de pasar vec{r} del perifocal al geocentrico debemos corregir las cantidades perturbadas\n",
        "# omega0 --> omega  &   w0 --> w\n",
        "J2=1.08263e-3 ; R=6.371\n",
        "\n",
        "#Para esto primero calculamos ---->  d(omega)/dt   &   dw/dt  \n",
        "omega_punto=-1.5*math.sqrt(GM)*J2*R**2*np.cos(inclinacion)/( (1-e**2)**2*a**3.5 )\n",
        "w_punto=-1.5*math.sqrt(GM)*J2*R**2*(2.5*np.sin(inclinacion)**2-2)/( (1-e**2)**2*a**3.5 )\n",
        "\n",
        "print('Grados/segundo')\n",
        "print()\n",
        "print('d(omega)/dt=',omega_punto*180/np.pi,'°/s')\n",
        "print('dw/dt=',w_punto*180/np.pi,'°/s  ')\n",
        "print('----------------------')\n",
        "print('Grados/dia')\n",
        "print()\n",
        "print('d(omega)/dt=',omega_punto*180/np.pi*86400,'°/day')\n",
        "print('dw/dt=',w_punto*180/np.pi*86400,'°/day')\n"
      ],
      "execution_count": null,
      "outputs": [
        {
          "output_type": "stream",
          "text": [
            "Grados/segundo\n",
            "\n",
            "d(omega)/dt= -0.009056879406234987 °/s\n",
            "dw/dt= 0.00979978824048676 °/s  \n",
            "----------------------\n",
            "Grados/dia\n",
            "\n",
            "d(omega)/dt= -782.5143806987029 °/day\n",
            "dw/dt= 846.701703978056 °/day\n"
          ],
          "name": "stdout"
        }
      ]
    },
    {
      "cell_type": "markdown",
      "metadata": {
        "id": "pcGTWGTO8f2m"
      },
      "source": [
        "**6) Calculamos $\\Omega$ y $\\omega$**"
      ]
    },
    {
      "cell_type": "code",
      "metadata": {
        "colab": {
          "base_uri": "https://localhost:8080/"
        },
        "id": "lmCgD3L8l7UA",
        "outputId": "20375892-b2ff-40be-e035-82803fb6dde7"
      },
      "source": [
        "#Calculo de omega32 --> omega32 = omega0 + (dw/dt)dt\n",
        "omega = omega0 + omega_punto*dt \n",
        "w = w0 + w_punto*dt\n",
        "\n",
        "print('Angulos iniciales')\n",
        "print('oemga0=',omega0*180.0/np.pi,'°')\n",
        "print('w0=',w0*180.0/np.pi,'°')\n",
        "print('___________________________')\n",
        "print('Angulos finales')\n",
        "print('omega=',omega*180/np.pi,'°')\n",
        "print('w=',w*180/np.pi,'°')"
      ],
      "execution_count": null,
      "outputs": [
        {
          "output_type": "stream",
          "text": [
            "Angulos iniciales\n",
            "oemga0= -130.21911764389526 °\n",
            "w0= -130.807743686958 °\n",
            "___________________________\n",
            "Angulos finales\n",
            "omega= -134.56641975888806 °\n",
            "w= -126.10384533152437 °\n"
          ],
          "name": "stdout"
        }
      ]
    },
    {
      "cell_type": "markdown",
      "metadata": {
        "id": "XcYUAm6Z8Zgn"
      },
      "source": [
        "**7.1) Calculamos $\\delta \\omega$ y $\\delta \\Omega$**"
      ]
    },
    {
      "cell_type": "code",
      "metadata": {
        "colab": {
          "base_uri": "https://localhost:8080/"
        },
        "id": "wNc9HaiaE11p",
        "outputId": "28431c32-4491-41bb-e56c-79688e522a3b"
      },
      "source": [
        "# Calculo de dw  &  d(omega) \n",
        "\n",
        "dw = abs( w - w0 ) * 180.0 / np.pi    ;    domega = abs( omega - omega0 ) * 180.0 / np.pi  \n",
        "\n",
        "print('Calculo de d(omega) y dw')\n",
        "print('---------------------------')\n",
        "print('d(omega)=',domega,'°')\n",
        "print('dw=',dw,'°')"
      ],
      "execution_count": null,
      "outputs": [
        {
          "output_type": "stream",
          "text": [
            "Calculo de d(omega) y dw\n",
            "---------------------------\n",
            "d(omega)= 4.347302114992805 °\n",
            "dw= 4.703898355433633 °\n"
          ],
          "name": "stdout"
        }
      ]
    },
    {
      "cell_type": "markdown",
      "metadata": {
        "id": "A2bzn-eq9Pcz"
      },
      "source": [
        "**7.2) convertimos $\\vec{r}\\ '$ $\\rightarrow$ $\\vec{r}$**"
      ]
    },
    {
      "cell_type": "code",
      "metadata": {
        "id": "i78E4kGgsESH",
        "colab": {
          "base_uri": "https://localhost:8080/"
        },
        "outputId": "13b11e54-1abe-4432-e463-ab3ab1cd7c0e"
      },
      "source": [
        "#Calculo del nuevo vector posicion en el geocentrico\n",
        "from numpy import cos,sin \n",
        "\n",
        "Rw = np.array( [ [  cos(w) , sin(w) , 0 ],\n",
        "                 [ -sin(w) , cos(w) , 0 ],\n",
        "                 [    0    ,   0    , 1 ]   ])\n",
        "\n",
        "i=inclinacion \n",
        "Ri = np.array( [ [  1 ,    0    ,   0    ],\n",
        "                 [  0 ,  cos(i) , sin(i) ],\n",
        "                 [  0 , -sin(i) , cos(i) ]   ])\n",
        "\n",
        "\n",
        "Romega = np.array( [ [  cos(omega) , sin(omega) , 0 ],\n",
        "                     [ -sin(omega) , cos(omega) , 0 ],\n",
        "                     [     0       ,     0      , 1 ]   ])\n",
        "\n",
        "Qgp = Rw @ Ri @ Romega  \n",
        "Qpg = Qgp.T \n",
        "\n",
        "# pasamos rf del perifocal al geocentrico:\n",
        "rf = Qpg @ rft\n",
        "\n",
        "# Si no hubiera perturbacion el meteorito deberia caer aqui\n",
        "rwh1=np.array([ 1.28026624, -4.79022783,  4.0005346 ])\n",
        "\n",
        "#print('Punto de impacto del meteorito sin perturbacion')\n",
        "#print('rwh1=',rwh1)\n",
        "#print('-------------------------------------------------')\n",
        "print('Punto de impacto del meteorito con perturbacion')\n",
        "print('rf=',rf)\n",
        "print()\n",
        "print('Ahora, debemos comparar esto con la posicion de la casa blanca en ese instante')"
      ],
      "execution_count": null,
      "outputs": [
        {
          "output_type": "stream",
          "text": [
            "Punto de impacto del meteorito con perturbacion\n",
            "rf= [ 1.35681089 -4.6398211   4.14979106]\n",
            "\n",
            "Ahora, debemos comparar esto con la posicion de la casa blanca en ese instante\n"
          ],
          "name": "stdout"
        }
      ]
    },
    {
      "cell_type": "markdown",
      "metadata": {
        "id": "VjFLDg3U-d70"
      },
      "source": [
        "**Posicion de la casa blanca al tiempo $t+\\Delta t$**"
      ]
    },
    {
      "cell_type": "code",
      "metadata": {
        "colab": {
          "base_uri": "https://localhost:8080/"
        },
        "id": "aycl4xl5qdsR",
        "outputId": "e8f7d4bb-ca84-43ba-c85d-8c8d7e403d84"
      },
      "source": [
        "# Coordenadas de la casa blanca en t0 : (latitud,longitud)=(38.8976763,-77.0387238)\n",
        "latitud = 38.8976763 ; longitud = -77.0387238\n",
        "rwh0 = GC(latitud,longitud)\n",
        "print('La posicion de la casa blanca en t0 es:')\n",
        "print(rwh0)\n",
        "print('----------------------------------------')\n",
        "\n",
        "# Coordenadas de la casa blanca al tiempo t0+dt\n",
        "rwh=W(rwh0,dt)\n",
        "\n",
        "print('Posicion de la casa blanca en t0+dt:')\n",
        "print(rwh)\n",
        "print()\n",
        "\n",
        "rwhll=CG(rwh[0],rwh[1],rwh[2])\n",
        "print('(latitud,longitud): '+str(\"{0:.6f}\".format(rwhll[0]))+',',\"{0:.6f}\".format(rwhll[1]))\n"
      ],
      "execution_count": null,
      "outputs": [
        {
          "output_type": "stream",
          "text": [
            "La posicion de la casa blanca en t0 es:\n",
            "[ 1.11483857 -4.84382997  3.98348271]\n",
            "----------------------------------------\n",
            "Posicion de la casa blanca en t0+dt:\n",
            "[ 1.28320667 -4.80197193  3.98348271]\n",
            "\n",
            "(latitud,longitud): 38.897676, -75.038724\n"
          ],
          "name": "stdout"
        }
      ]
    },
    {
      "cell_type": "markdown",
      "metadata": {
        "id": "8b_TqL2Hv9TF"
      },
      "source": [
        "**Comparamos $\\vec{r}_{imp}$ con $\\vec{r}_{wh}$**"
      ]
    },
    {
      "cell_type": "code",
      "metadata": {
        "colab": {
          "base_uri": "https://localhost:8080/"
        },
        "id": "U0JG10TWwF-5",
        "outputId": "33c78786-8f33-4859-99b2-8c5d8dc0a18b"
      },
      "source": [
        "print('rimp=',rf)\n",
        "print('rwh =',rwh)"
      ],
      "execution_count": null,
      "outputs": [
        {
          "output_type": "stream",
          "text": [
            "rimp= [ 1.35681089 -4.6398211   4.14979106]\n",
            "rwh = [ 1.28320667 -4.80197193  3.98348271]\n"
          ],
          "name": "stdout"
        }
      ]
    },
    {
      "cell_type": "markdown",
      "metadata": {
        "id": "WKS725OExOC3"
      },
      "source": [
        "**Expresamos lo anterior en coordenadas geodesicas**"
      ]
    },
    {
      "cell_type": "code",
      "metadata": {
        "colab": {
          "base_uri": "https://localhost:8080/"
        },
        "id": "liLolgI1wSgZ",
        "outputId": "39de1850-a6e6-4568-f288-0e1148ee181d"
      },
      "source": [
        "# Para poderlas visualizar en el mapa debemos aplicar la antirotacion, esto es Rz(-theta)\n",
        "theta =  7.2722052e-5*dt\n",
        "\n",
        "# Matriz de anti-rotacion al rededor del eje z\n",
        "Rz=np.array([ [ cos(-theta) , -sin(-theta) , 0 ],\n",
        "              [ sin(-theta) ,  cos(-theta) , 0 ],\n",
        "              [      0      ,       0      , 1 ]  ])\n",
        "  \n",
        "Rf = Rz @ rf \n",
        "\n",
        "coordenadas=CG(Rf[0],Rf[1],Rf[2])\n",
        "\n",
        "print('Coords geodesicas del punto de impacto :',coordenadas)\n",
        "print('Coords geodesicas de la casa blanca    : (38.8976763,-77.0387238)',)"
      ],
      "execution_count": null,
      "outputs": [
        {
          "output_type": "stream",
          "text": [
            "Coords geodesicas del punto de impacto : (40.834181, -75.699633)\n",
            "Coords geodesicas de la casa blanca    : (38.8976763,-77.0387238)\n"
          ],
          "name": "stdout"
        }
      ]
    },
    {
      "cell_type": "code",
      "metadata": {
        "id": "0KzKx1jpwjfs"
      },
      "source": [
        ""
      ],
      "execution_count": null,
      "outputs": []
    }
  ]
}
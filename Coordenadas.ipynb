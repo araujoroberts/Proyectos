{
  "nbformat": 4,
  "nbformat_minor": 0,
  "metadata": {
    "colab": {
      "name": "Coordenadas.ipynb",
      "provenance": [],
      "authorship_tag": "ABX9TyO7H70HdSDczdlDcnPs2mz6",
      "include_colab_link": true
    },
    "kernelspec": {
      "name": "python3",
      "display_name": "Python 3"
    }
  },
  "cells": [
    {
      "cell_type": "markdown",
      "metadata": {
        "id": "view-in-github",
        "colab_type": "text"
      },
      "source": [
        "<a href=\"https://colab.research.google.com/github/araujoroberts/Proyectos/blob/main/Coordenadas.ipynb\" target=\"_parent\"><img src=\"https://colab.research.google.com/assets/colab-badge.svg\" alt=\"Open In Colab\"/></a>"
      ]
    },
    {
      "cell_type": "markdown",
      "metadata": {
        "id": "jpQXUYJLgyv0"
      },
      "source": [
        "#Meteorito"
      ]
    },
    {
      "cell_type": "code",
      "metadata": {
        "id": "TiuRhyAJJIXr"
      },
      "source": [
        "# INICIALIZAMOS LOS VECTORES r0 y rf\n",
        "import matplotlib.pyplot as plt\n",
        "import numpy as np\n",
        "import math\n",
        "\n",
        "#Posicion inicial del meteorito y su norma\n",
        "r0=np.array([0.50000,-6.50000,4.50000])\n",
        "nr0=np.linalg.norm(r0)\n",
        "\n",
        "#Velocidad inicial del meteorito y su norma\n",
        "v0=np.array([0.00301739,0.00591672,-0.00102365])\n",
        "nv0=np.linalg.norm(v0)\n",
        "\n",
        "# Definimos la base gecentrica\n",
        "i=np.array([1,0,0])\n",
        "j=np.array([0,1,0])\n",
        "k=np.array([0,0,1])"
      ],
      "execution_count": 79,
      "outputs": []
    },
    {
      "cell_type": "code",
      "metadata": {
        "colab": {
          "base_uri": "https://localhost:8080/"
        },
        "id": "tDFnrglNJLDZ",
        "outputId": "bda2cfed-61cc-487f-e4b0-6aa9155878e0"
      },
      "source": [
        "# Calculamos el momento angular y su norma\n",
        "L=np.cross(r0,v0)\n",
        "l=np.linalg.norm(L)\n",
        "\n",
        "\n",
        "# Calculamos el vector nodo\n",
        "N=np.cross(k,L)\n",
        "n=np.linalg.norm(N)\n",
        "\n",
        "\n",
        "# Calculamos el vector de exentricidad\n",
        "GM=3.98613e-4\n",
        "ex = np.cross(v0,L) / GM -  r0 / nr0\n",
        "e=np.linalg.norm(ex)\n",
        "\n",
        "\n",
        "# Calculamos los vectores base en el sistema perifocal\n",
        "xp=ex/e\n",
        "zp=L/l\n",
        "yp=np.cross(zp,xp)\n",
        "\n",
        "\n",
        "# Calculamos p y a\n",
        "p=l**2/GM\n",
        "a=p/(1-e**2)\n",
        "\n",
        "\n",
        "# Calculamos la inclinacion del plano orbital\n",
        "inclinacion=math.acos(L[2]/l)\n",
        "\n",
        "\n",
        "# Calculamos la longitud del nodo acendente\n",
        "if N[1]>0:\n",
        "  OMEGA=math.acos(N[0]/n)  \n",
        "if N[1]<0:\n",
        "  OMEGA=-math.acos(N[0]/n)\n",
        "\n",
        "\n",
        "# Calculamos el argumento del perigeo\n",
        "if ex[-1]>0:\n",
        "  w=math.acos( np.dot(N,ex) / (n*e) )\n",
        "if ex[-1]<0:\n",
        "  w=-math.acos( np.dot(N,ex) / (n*e) )\n",
        "\n",
        "\n",
        "# Calculamos el desfase\n",
        "prueba=np.dot(r0,v0)\n",
        "\n",
        "if prueba > 0 :\n",
        "  nu0=math.acos(np.dot(ex,r0)/(e*nr0))\n",
        "\n",
        "if prueba < 0 : \n",
        "  nu0=-math.acos(np.dot(ex,r0)/(e*nr0))\n",
        "\n",
        "print('Parametros de la orbita')\n",
        "print()\n",
        "print('e=',e)\n",
        "print('p=',p)\n",
        "print('a=',a)\n",
        "print('Omega=',OMEGA)\n",
        "print('w=',w)\n",
        "print('nu0=',nu0)"
      ],
      "execution_count": 80,
      "outputs": [
        {
          "output_type": "stream",
          "text": [
            "Parametros de la orbita\n",
            "\n",
            "e= 0.7832719700129764\n",
            "p= 2.7767775713477736\n",
            "a= 7.184696483761829\n",
            "Omega= -2.1852099259516367\n",
            "w= -2.8508170872308467\n",
            "nu0= -2.548410918350726\n"
          ],
          "name": "stdout"
        }
      ]
    },
    {
      "cell_type": "code",
      "metadata": {
        "colab": {
          "base_uri": "https://localhost:8080/"
        },
        "id": "Ym2aqn1pJ1jg",
        "outputId": "8e2b6c2a-f63b-4c7e-aa49-6a9e8f62faba"
      },
      "source": [
        "# Calculamos los vectores r0' y v0'\n",
        "r0t=nr0*(np.cos(nu0)*i+np.sin(nu0)*j) \n",
        "v0t=math.sqrt(GM/p)*(-np.sin(nu0)*i+(e+np.cos(nu0))*j)\n",
        "\n",
        "print('Los vectores r0\\' y v0\\' son:')\n",
        "print('r0\\'=',r0t)\n",
        "print('v0\\'=',v0t)"
      ],
      "execution_count": 81,
      "outputs": [
        {
          "output_type": "stream",
          "text": [
            "Los vectores r0' y v0' son:\n",
            "r0'= [-6.56823222 -4.4281289  -0.        ]\n",
            "v0'= [ 0.00669759 -0.00054988  0.        ]\n"
          ],
          "name": "stdout"
        }
      ]
    },
    {
      "cell_type": "code",
      "metadata": {
        "colab": {
          "base_uri": "https://localhost:8080/"
        },
        "id": "coYua1ESL0_r",
        "outputId": "117105f1-21bb-48d0-9dfa-0fb4b4ac00cf"
      },
      "source": [
        "# Matriz de cambio de base\n",
        "R11=i @ xp\n",
        "R12= i @ yp\n",
        "R13= i @ zp\n",
        "R21=j @ xp \n",
        "R22= j @ yp\n",
        "R23= j @ zp \n",
        "R31=k @ xp\n",
        "R32= k @ yp\n",
        "R33= k @ zp\n",
        "\n",
        "M=np.array([ [R11,R12,R13],\n",
        "            [R21,R22,R23],\n",
        "            [R31,R32,R33] ] )\n",
        "\n",
        "print('Vectores r0 y v0:')\n",
        "r = M @ r0t \n",
        "print(r)\n",
        "\n",
        "v = M @ v0t\n",
        "print(v)\n",
        "\n"
      ],
      "execution_count": 82,
      "outputs": [
        {
          "output_type": "stream",
          "text": [
            "Vectores r0 y v0:\n",
            "[ 0.5 -6.5  4.5]\n",
            "[ 0.00301739  0.00591672 -0.00102365]\n"
          ],
          "name": "stdout"
        }
      ]
    },
    {
      "cell_type": "code",
      "metadata": {
        "colab": {
          "base_uri": "https://localhost:8080/"
        },
        "id": "FeRjK2myMxWz",
        "outputId": "2e7ac66f-89c7-4aed-ed33-136043efedb1"
      },
      "source": [
        "# Periodo de la orbita\n",
        "T=2*np.pi/math.sqrt(GM)*a**(3/2)\n",
        "\n",
        "# Velocidad media\n",
        "n=2*np.pi/T\n",
        "\n",
        "# Anomalia exentrica inicial\n",
        "E0=2*math.atan(math.sqrt((1-e)/(1+e))*math.tan(nu0/2))\n",
        "\n",
        "# Tiempo de paso por el perigeo\n",
        "t0=(E0-e*np.sin(E0))/n \n",
        "\n",
        "t0"
      ],
      "execution_count": 83,
      "outputs": [
        {
          "output_type": "execute_result",
          "data": {
            "text/plain": [
              "-892.7827690074421"
            ]
          },
          "metadata": {
            "tags": []
          },
          "execution_count": 83
        }
      ]
    },
    {
      "cell_type": "code",
      "metadata": {
        "id": "6XKz_9O4Nz-V"
      },
      "source": [
        "# Subrutina que calcula la anomalia exentrica\n",
        "def f(M_,e_,E_):\n",
        "  import numpy as np\n",
        "  fx  = lambda E_: E_-e_*np.sin(E_)-M_\n",
        "  dfx = lambda E_: 1-e_*np.cos(E_)\n",
        "  \n",
        "  E0=E_\n",
        "  tol=1e-8\n",
        "  dE=abs(2*tol)\n",
        "  Eold=E0\n",
        "\n",
        "  while (dE >= tol):\n",
        "    Enew=Eold-fx(Eold)/dfx(Eold)\n",
        "    dE=abs(Enew-Eold)\n",
        "    Eold=Enew\n",
        "\n",
        "  return Enew"
      ],
      "execution_count": 84,
      "outputs": []
    },
    {
      "cell_type": "code",
      "metadata": {
        "colab": {
          "base_uri": "https://localhost:8080/",
          "height": 424
        },
        "id": "0qwTyBAfNKSy",
        "outputId": "f8dfccf6-1c58-4ff1-a07f-2ff0a0cd2200"
      },
      "source": [
        "#----------------------------------------------------\n",
        "# ---------Actualizacion de coordenadas--------------\n",
        "#----------------------------------------------------\n",
        "\n",
        "# tamaño de paso \n",
        "dt=0.10\n",
        "t=t0\n",
        "# M de arranque\n",
        "Mf=n*t\n",
        "\n",
        "# E de arranque\n",
        "if Mf >= np.pi:\n",
        "  Ep=Mf+e/2\n",
        "\n",
        "if Mf < np.pi:\n",
        "  Ep=Mf-e/2\n",
        " \n",
        "Xlist=[] ; Ylist=[] ; Zlist=[]\n",
        "\n",
        "for m in range(2550):\n",
        "  Ef=f(Mf,e,Ep)\n",
        "  nuf=2*math.atan(math.sqrt((1+e)/(1-e))*math.tan(Ef/2))\n",
        "  r=p/(1+e*np.cos(nuf))\n",
        "  xt=r*np.cos(nuf)\n",
        "  yt=r*np.sin(nuf)\n",
        "  zt=0\n",
        "  rt=np.array([xt,yt,zt])\n",
        "  rtt= M @ rt\n",
        "  Xlist.append(rtt[0])\n",
        "  Ylist.append(rtt[1])\n",
        "  Zlist.append(rtt[2])\n",
        "  t=t+dt\n",
        "  Mf=n*t\n",
        "  if Mf >= np.pi:\n",
        "    Ep=Mf+e/2\n",
        "\n",
        "  if Mf < np.pi:\n",
        "    Ep=Mf-e/2 \n",
        "\n",
        "\n",
        "import pandas as pd\n",
        "\n",
        "#plt.plot(Xlist,Ylist)\n",
        "#plt.xlabel('x')\n",
        "#plt.ylabel('y')\n",
        "#plt.grid()\n",
        "#plt.show()\n",
        "\n",
        "\n",
        "#Creamos una lista de listas\n",
        "data = {'x':Xlist,'y':Ylist,'z':Zlist}\n",
        "\n",
        "#Creamos un dataframe\n",
        "df = pd.DataFrame(data)\n",
        "\n",
        "df\n",
        "\n"
      ],
      "execution_count": 86,
      "outputs": [
        {
          "output_type": "execute_result",
          "data": {
            "text/html": [
              "<div>\n",
              "<style scoped>\n",
              "    .dataframe tbody tr th:only-of-type {\n",
              "        vertical-align: middle;\n",
              "    }\n",
              "\n",
              "    .dataframe tbody tr th {\n",
              "        vertical-align: top;\n",
              "    }\n",
              "\n",
              "    .dataframe thead th {\n",
              "        text-align: right;\n",
              "    }\n",
              "</style>\n",
              "<table border=\"1\" class=\"dataframe\">\n",
              "  <thead>\n",
              "    <tr style=\"text-align: right;\">\n",
              "      <th></th>\n",
              "      <th>x</th>\n",
              "      <th>y</th>\n",
              "      <th>z</th>\n",
              "    </tr>\n",
              "  </thead>\n",
              "  <tbody>\n",
              "    <tr>\n",
              "      <th>0</th>\n",
              "      <td>0.500000</td>\n",
              "      <td>-6.500000</td>\n",
              "      <td>4.500000</td>\n",
              "    </tr>\n",
              "    <tr>\n",
              "      <th>1</th>\n",
              "      <td>0.500302</td>\n",
              "      <td>-6.499408</td>\n",
              "      <td>4.499898</td>\n",
              "    </tr>\n",
              "    <tr>\n",
              "      <th>2</th>\n",
              "      <td>0.500603</td>\n",
              "      <td>-6.498817</td>\n",
              "      <td>4.499795</td>\n",
              "    </tr>\n",
              "    <tr>\n",
              "      <th>3</th>\n",
              "      <td>0.500905</td>\n",
              "      <td>-6.498225</td>\n",
              "      <td>4.499693</td>\n",
              "    </tr>\n",
              "    <tr>\n",
              "      <th>4</th>\n",
              "      <td>0.501207</td>\n",
              "      <td>-6.497633</td>\n",
              "      <td>4.499590</td>\n",
              "    </tr>\n",
              "    <tr>\n",
              "      <th>...</th>\n",
              "      <td>...</td>\n",
              "      <td>...</td>\n",
              "      <td>...</td>\n",
              "    </tr>\n",
              "    <tr>\n",
              "      <th>2545</th>\n",
              "      <td>1.243322</td>\n",
              "      <td>-4.807397</td>\n",
              "      <td>4.101104</td>\n",
              "    </tr>\n",
              "    <tr>\n",
              "      <th>2546</th>\n",
              "      <td>1.243598</td>\n",
              "      <td>-4.806650</td>\n",
              "      <td>4.100882</td>\n",
              "    </tr>\n",
              "    <tr>\n",
              "      <th>2547</th>\n",
              "      <td>1.243875</td>\n",
              "      <td>-4.805904</td>\n",
              "      <td>4.100661</td>\n",
              "    </tr>\n",
              "    <tr>\n",
              "      <th>2548</th>\n",
              "      <td>1.244151</td>\n",
              "      <td>-4.805157</td>\n",
              "      <td>4.100439</td>\n",
              "    </tr>\n",
              "    <tr>\n",
              "      <th>2549</th>\n",
              "      <td>1.244427</td>\n",
              "      <td>-4.804410</td>\n",
              "      <td>4.100217</td>\n",
              "    </tr>\n",
              "  </tbody>\n",
              "</table>\n",
              "<p>2550 rows × 3 columns</p>\n",
              "</div>"
            ],
            "text/plain": [
              "             x         y         z\n",
              "0     0.500000 -6.500000  4.500000\n",
              "1     0.500302 -6.499408  4.499898\n",
              "2     0.500603 -6.498817  4.499795\n",
              "3     0.500905 -6.498225  4.499693\n",
              "4     0.501207 -6.497633  4.499590\n",
              "...        ...       ...       ...\n",
              "2545  1.243322 -4.807397  4.101104\n",
              "2546  1.243598 -4.806650  4.100882\n",
              "2547  1.243875 -4.805904  4.100661\n",
              "2548  1.244151 -4.805157  4.100439\n",
              "2549  1.244427 -4.804410  4.100217\n",
              "\n",
              "[2550 rows x 3 columns]"
            ]
          },
          "metadata": {
            "tags": []
          },
          "execution_count": 86
        }
      ]
    },
    {
      "cell_type": "code",
      "metadata": {
        "id": "UTofVys_k7MP"
      },
      "source": [
        "#Creamos un archivo csv de los datos obtenidos\n",
        "file = open('coords.dat',\"x\")"
      ],
      "execution_count": 87,
      "outputs": []
    },
    {
      "cell_type": "code",
      "metadata": {
        "id": "VWifBpkCk8gJ"
      },
      "source": [
        "#Escribimos los datos obtenidos en el archivo creado\n",
        "df.to_csv('coords.dat', sep =' ', index = False)\n"
      ],
      "execution_count": 93,
      "outputs": []
    },
    {
      "cell_type": "markdown",
      "metadata": {
        "id": "X8zL-e3Hg183"
      },
      "source": [
        "#Cohete"
      ]
    },
    {
      "cell_type": "code",
      "metadata": {
        "id": "1NU7aL8tPb_F"
      },
      "source": [
        "import numpy as np\n",
        "import math \n",
        "# r0 cohete - sistema geocentrico\n",
        "r0=np.array([0.67321829 , -5.23597802 , 3.86420687])\n",
        "nr0=np.linalg.norm(r0)\n",
        "\n",
        "# v0 cohete - sistema geocentrico\n",
        "v0=np.array([0.00071523 , -0.00281318 , 0.00238896])\n",
        "nv0=np.linalg.norm(v0)"
      ],
      "execution_count": 65,
      "outputs": []
    },
    {
      "cell_type": "code",
      "metadata": {
        "id": "Kq-icGYhd7Se"
      },
      "source": [
        "# Momento angular\n",
        "h = np.cross( r0 , v0 )\n",
        "nh=np.linalg.norm(h)\n",
        "\n",
        "# Vector nodo\n",
        "n = np.cross( k , h)\n",
        "nn=np.linalg.norm(n)\n",
        "\n",
        "# Exentricidad\n",
        "GM=3.98613e-4\n",
        "ex =( 1/GM )* np.cross(v0,h) -( 1/nr0 )* r0\n",
        "\n",
        "# Parametros de la orbita\n",
        "e=np.linalg.norm(ex)\n",
        "p=nh**2/GM\n",
        "a=p/(1-e**2)"
      ],
      "execution_count": 66,
      "outputs": []
    },
    {
      "cell_type": "code",
      "metadata": {
        "id": "jwomHKg2g7tb"
      },
      "source": [
        "# Vectores base del sistema perifocal\n",
        "xp=ex/e\n",
        "zp=h/nh\n",
        "yp=np.cross(zp,xp)\n",
        "\n",
        "# Vectores base del sistema geocentrico\n",
        "i=np.array([1,0,0])\n",
        "j=np.array([0,1,0])\n",
        "k=np.array([0,0,1])\n",
        "\n",
        "# Matriz de cambio de base\n",
        "R11=i @ xp\n",
        "R12= i @ yp\n",
        "R13= i @ zp\n",
        "R21=j @ xp \n",
        "R22= j @ yp\n",
        "R23= j @ zp \n",
        "R31=k @ xp\n",
        "R32= k @ yp\n",
        "R33= k @ zp\n",
        "\n",
        "M=np.array([ [R11,R12,R13],\n",
        "            [R21,R22,R23],\n",
        "            [R31,R32,R33] ] )"
      ],
      "execution_count": 67,
      "outputs": []
    },
    {
      "cell_type": "code",
      "metadata": {
        "id": "DQyS4q_Hg-TT"
      },
      "source": [
        "# Periodo de la orbita\n",
        "T=2*np.pi/math.sqrt(GM)*a**(3/2)\n",
        "\n",
        "#velocidad media \n",
        "n=2*np.pi/T\n",
        "\n",
        "#Anomalia exentrica inicial\n",
        "E0=2*math.atan(math.sqrt((1-e)/(1+e))*math.tan(nu0/2))\n",
        "\n"
      ],
      "execution_count": 68,
      "outputs": []
    },
    {
      "cell_type": "code",
      "metadata": {
        "colab": {
          "base_uri": "https://localhost:8080/",
          "height": 320
        },
        "id": "2Vnh3hX7hIi9",
        "outputId": "a263360c-6959-4ccd-ae9d-89e8feced2c2"
      },
      "source": [
        "Xlist=[] ; Ylist=[] ; Zlist=[]\n",
        "\n",
        "dt=0\n",
        "for i in range(500):\n",
        "  f=1-GM/(2*nr0**3)*dt**2+GM*np.dot(r0,v0)/(2*nr0**5)*dt**3+GM/24*(-2*GM/nr0**6+3*nv0**2/nr0**5-15*np.dot(r0,v0)/nr0**7)*dt**4\n",
        "  g=dt-GM/(6*nr0**3)*dt**3+GM*np.dot(t0,v0)*dt**4/(4*nr0**5)\n",
        "  r=f*r0+g*v0 \n",
        "  Xlist.append(r[0])\n",
        "  Ylist.append(r[1])\n",
        "  Zlist.append(r[2])\n",
        "  dt+=1\n",
        "\n",
        "x=np.array([Xlist])\n",
        "y=np.array([Ylist])\n",
        "z=np.array([Zlist])\n",
        "\n",
        "# Modulos con los que trabajaremos\n",
        "from mpl_toolkits.mplot3d import axes3d\n",
        "import matplotlib.pyplot as plt\n",
        "import numpy as np\n",
        "\n",
        "# Creamos la figura\n",
        "fig = plt.figure()\n",
        "\n",
        "# Agrrgamos un plano 3D\n",
        "ax1 = fig.add_subplot(111,projection='3d')\n",
        "\n",
        "\n",
        "# plot_wireframe nos permite agregar los datos x, y, z. Por ello 3D\n",
        "# Es necesario que los datos esten contenidos en un array bi-dimensional\n",
        "ax1.plot_wireframe(x, y, z)\n",
        "\n",
        "# Mostramos el gráfico\n",
        "plt.show()\n",
        "\n",
        "\n",
        "prub=np.array([Xlist[0],Ylist[0],Zlist[0]])\n",
        "prub"
      ],
      "execution_count": 77,
      "outputs": [
        {
          "output_type": "stream",
          "text": [
            "/usr/local/lib/python3.7/dist-packages/numpy/core/_asarray.py:136: VisibleDeprecationWarning: Creating an ndarray from ragged nested sequences (which is a list-or-tuple of lists-or-tuples-or ndarrays with different lengths or shapes) is deprecated. If you meant to do this, you must specify 'dtype=object' when creating the ndarray\n",
            "  return array(a, dtype, copy=False, order=order, subok=True)\n"
          ],
          "name": "stderr"
        },
        {
          "output_type": "display_data",
          "data": {
            "image/png": "[encoded data removed]",
            "text/plain": [
              "<Figure size 432x288 with 1 Axes>"
            ]
          },
          "metadata": {
            "tags": [],
            "needs_background": "light"
          }
        },
        {
          "output_type": "execute_result",
          "data": {
            "text/plain": [
              "array([ 0.67321829, -5.23597802,  3.86420687])"
            ]
          },
          "metadata": {
            "tags": []
          },
          "execution_count": 77
        }
      ]
    },
    {
      "cell_type": "code",
      "metadata": {
        "id": "0onvcfhAhJGo"
      },
      "source": [
        ""
      ],
      "execution_count": 72,
      "outputs": []
    }
  ]
}
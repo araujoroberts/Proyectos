{
  "nbformat": 4,
  "nbformat_minor": 0,
  "metadata": {
    "colab": {
      "name": "Operaciones con arreglos.ipynb",
      "provenance": [],
      "authorship_tag": "ABX9TyPCN/wJ6EqKOK2QzJPYSwmQ",
      "include_colab_link": true
    },
    "kernelspec": {
      "name": "python3",
      "display_name": "Python 3"
    }
  },
  "cells": [
    {
      "cell_type": "markdown",
      "metadata": {
        "id": "view-in-github",
        "colab_type": "text"
      },
      "source": [
        "<a href=\"https://colab.research.google.com/github/araujoroberts/Proyectos/blob/main/Operaciones_con_arreglos.ipynb\" target=\"_parent\"><img src=\"https://colab.research.google.com/assets/colab-badge.svg\" alt=\"Open In Colab\"/></a>"
      ]
    },
    {
      "cell_type": "markdown",
      "metadata": {
        "id": "5SnMSRs48S2_"
      },
      "source": [
        "#Listas\n"
      ]
    },
    {
      "cell_type": "code",
      "metadata": {
        "id": "p-6F9-z_9gBk"
      },
      "source": [
        "import numpy as np"
      ],
      "execution_count": 49,
      "outputs": []
    },
    {
      "cell_type": "code",
      "metadata": {
        "id": "7nS-Ilh97lIw",
        "outputId": "6baf7501-3393-45c2-c7ee-93050b276a59",
        "colab": {
          "base_uri": "https://localhost:8080/"
        }
      },
      "source": [
        "# Las listas se declaran: a=[a0,a1,a2,...,an-1]\n",
        "a=[1,5,4,2,7]\n",
        "\n",
        "# El elemento i'esimo de una lista se obtiene como: a[i-1] porque la lista comienza\n",
        "print(\"El primer eklemento de la lista es\",a[0])\n",
        "print(\"El segundo eklemento de la lista es\",a[1])"
      ],
      "execution_count": 50,
      "outputs": [
        {
          "output_type": "stream",
          "text": [
            "El primer eklemento de la lista es 1\n",
            "El segundo eklemento de la lista es 5\n"
          ],
          "name": "stdout"
        }
      ]
    },
    {
      "cell_type": "code",
      "metadata": {
        "id": "42ruQNEU8gxF",
        "outputId": "03340375-33e2-4b96-9035-7d879f76cc94",
        "colab": {
          "base_uri": "https://localhost:8080/"
        }
      },
      "source": [
        "# Sumar elementos de listas debemos primerp convertir a arrays\n",
        "a=np.array(a)\n",
        "b=np.array([1,5,2,6,3])\n",
        "a+b\n"
      ],
      "execution_count": 51,
      "outputs": [
        {
          "output_type": "execute_result",
          "data": {
            "text/plain": [
              "array([ 2, 10,  6,  8, 10])"
            ]
          },
          "metadata": {
            "tags": []
          },
          "execution_count": 51
        }
      ]
    },
    {
      "cell_type": "code",
      "metadata": {
        "id": "kFkbon9w9qww",
        "outputId": "0ba87578-21c4-49b1-fd1e-0b978b47879c",
        "colab": {
          "base_uri": "https://localhost:8080/"
        }
      },
      "source": [
        "# Ordenar los elementos de una lista: lista.sort()\n",
        "a.sort()\n",
        "a"
      ],
      "execution_count": 52,
      "outputs": [
        {
          "output_type": "execute_result",
          "data": {
            "text/plain": [
              "array([1, 2, 4, 5, 7])"
            ]
          },
          "metadata": {
            "tags": []
          },
          "execution_count": 52
        }
      ]
    },
    {
      "cell_type": "code",
      "metadata": {
        "id": "cPLkO-3A-KPr",
        "outputId": "9cdf7138-3d97-4e16-a428-9b865656f466",
        "colab": {
          "base_uri": "https://localhost:8080/"
        }
      },
      "source": [
        "# Calcular la longitud de una lista\n",
        "print(\"la longitud de la lista b es: \")\n",
        "len(b)\n"
      ],
      "execution_count": 53,
      "outputs": [
        {
          "output_type": "stream",
          "text": [
            "la longitud de la lista b es: \n"
          ],
          "name": "stdout"
        },
        {
          "output_type": "execute_result",
          "data": {
            "text/plain": [
              "5"
            ]
          },
          "metadata": {
            "tags": []
          },
          "execution_count": 53
        }
      ]
    },
    {
      "cell_type": "markdown",
      "metadata": {
        "id": "_MY1_AIU-t8v"
      },
      "source": [
        "# Matrices\n"
      ]
    },
    {
      "cell_type": "code",
      "metadata": {
        "id": "-Uc6vn9X-UI4",
        "outputId": "612858a0-fdce-460d-a437-582fa7f718cf",
        "colab": {
          "base_uri": "https://localhost:8080/"
        }
      },
      "source": [
        "# Definir una matriz 2x2\n",
        "A=[ [1,2],\n",
        "    [7,4] ]\n",
        "# imprimirla\n",
        "A"
      ],
      "execution_count": 54,
      "outputs": [
        {
          "output_type": "execute_result",
          "data": {
            "text/plain": [
              "[[1, 2], [7, 4]]"
            ]
          },
          "metadata": {
            "tags": []
          },
          "execution_count": 54
        }
      ]
    },
    {
      "cell_type": "code",
      "metadata": {
        "id": "q3QN-hVK-8nb",
        "outputId": "aa9a228e-7cfd-404a-af4f-8fed40ab5ae8",
        "colab": {
          "base_uri": "https://localhost:8080/"
        }
      },
      "source": [
        "# Seleccionar un elemento de matriz:\n",
        "print(\"segunda fila\",A[1])\n",
        "print(\"Segundo elemento segunda fila\",A[1][1])"
      ],
      "execution_count": 55,
      "outputs": [
        {
          "output_type": "stream",
          "text": [
            "segunda fila [7, 4]\n",
            "Segundo elemento segunda fila 4\n"
          ],
          "name": "stdout"
        }
      ]
    },
    {
      "cell_type": "code",
      "metadata": {
        "id": "zYqbwyW5_Mjb",
        "outputId": "ecf30582-5139-4803-9287-4966d700bfbe",
        "colab": {
          "base_uri": "https://localhost:8080/"
        }
      },
      "source": [
        "# Sumar matrices\n",
        "\n",
        "X=[ [1,2,4],\n",
        "    [4,7,1],\n",
        "    [-1,-5,-7] ]\n",
        "\n",
        "Y=[ [5,3,-5],\n",
        "    [1,7,4],\n",
        "    [0,-10,7] ]\n",
        "\n",
        "Z= [ [0,0,0],\n",
        "     [0,0,0],\n",
        "     [0,0,0] ]\n",
        "\n",
        "filas=len(X)\n",
        "columnas=filas\n",
        "\n",
        "# Sumamos sobre las filas\n",
        "for i in range(filas):\n",
        " # Sumamos sobre las columnas \n",
        "   for j in range(columnas):\n",
        "     Z[i][j]=X[i][j]+Y[i][j]\n",
        "\n",
        "for i in range(len(X)):\n",
        "  print(Z[i])\n",
        " \n",
        "\n"
      ],
      "execution_count": 81,
      "outputs": [
        {
          "output_type": "stream",
          "text": [
            "[6, 5, -1]\n",
            "[5, 14, 5]\n",
            "[-1, -15, 0]\n"
          ],
          "name": "stdout"
        }
      ]
    },
    {
      "cell_type": "code",
      "metadata": {
        "id": "dbnS90BZGx8a"
      },
      "source": [
        ""
      ],
      "execution_count": null,
      "outputs": []
    }
  ]
}
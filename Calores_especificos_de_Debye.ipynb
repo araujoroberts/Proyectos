{
  "nbformat": 4,
  "nbformat_minor": 0,
  "metadata": {
    "colab": {
      "name": "Calores especificos de Debye.ipynb",
      "provenance": [],
      "authorship_tag": "ABX9TyMtwFJzmsTLtnTyIYcFwsPk",
      "include_colab_link": true
    },
    "kernelspec": {
      "name": "python3",
      "display_name": "Python 3"
    }
  },
  "cells": [
    {
      "cell_type": "markdown",
      "metadata": {
        "id": "view-in-github",
        "colab_type": "text"
      },
      "source": [
        "<a href=\"https://colab.research.google.com/github/araujoroberts/Proyectos/blob/main/Calores_especificos_de_Debye.ipynb\" target=\"_parent\"><img src=\"https://colab.research.google.com/assets/colab-badge.svg\" alt=\"Open In Colab\"/></a>"
      ]
    },
    {
      "cell_type": "code",
      "metadata": {
        "id": "WeznCnTdmbqa"
      },
      "source": [
        "import numpy as np\n",
        "import matplotlib.pyplot as plt "
      ],
      "execution_count": 157,
      "outputs": []
    },
    {
      "cell_type": "code",
      "metadata": {
        "id": "ZBedYcBgm204",
        "outputId": "3308bc09-fc3f-4dd2-8112-7ca4ffc45975",
        "colab": {
          "base_uri": "https://localhost:8080/"
        }
      },
      "source": [
        "# Defining the function to integrate\n",
        "def f1(x):\n",
        "  return x**4*np.exp(-x)/(1-np.exp(-x))**2"
      ],
      "execution_count": 165,
      "outputs": [
        {
          "output_type": "execute_result",
          "data": {
            "text/plain": [
              "0.9206735942077924"
            ]
          },
          "metadata": {
            "tags": []
          },
          "execution_count": 165
        }
      ]
    },
    {
      "cell_type": "code",
      "metadata": {
        "id": "htX_4wg7nDQG"
      },
      "source": [
        "def f2(T):\n",
        "  n=100\n",
        "  a=0.1\n",
        "  b=390/T \n",
        "  sum=0.0\n",
        "  h=abs(b-a)/n\n",
        "  for i in range(1,n):\n",
        "    sum=sum+f1(a+i*h)\n",
        " # result=0.5*h*(f1(a)+f1(b))+sum*h\n",
        "  return h/2*(f1(a)+f1(b)+2*sum)\n"
      ],
      "execution_count": 180,
      "outputs": []
    },
    {
      "cell_type": "code",
      "metadata": {
        "id": "IPoNZlaO6naQ"
      },
      "source": [
        "integral=[]\n",
        "temperatura=[]\n",
        "otro=[]\n",
        "for k in range(1,500):\n",
        "  r=k+0.1\n",
        "  temperatura.append(r)\n",
        "  integral.append(f2(r))\n",
        "  otro.append(f2(r)*(r/390)**3)\n"
      ],
      "execution_count": 189,
      "outputs": []
    },
    {
      "cell_type": "code",
      "metadata": {
        "id": "Jmvlhaxs8Wxg",
        "outputId": "575a57e6-fb37-43c7-8f4d-7322724d2f7f",
        "colab": {
          "base_uri": "https://localhost:8080/",
          "height": 295
        }
      },
      "source": [
        "plt.plot(temperatura,otro)\n",
        "plt.title('Cv/9Nk de la plata')\n",
        "plt.grid()\n",
        "plt.xlabel('Temperature')\n",
        "plt.ylabel('I(T)')\n",
        "plt.show()"
      ],
      "execution_count": 190,
      "outputs": [
        {
          "output_type": "display_data",
          "data": {
            "image/png": "[encoded data removed]",
            "text/plain": [
              "<Figure size 432x288 with 1 Axes>"
            ]
          },
          "metadata": {
            "tags": [],
            "needs_background": "light"
          }
        }
      ]
    },
    {
      "cell_type": "code",
      "metadata": {
        "id": "tlP2jVbj-7FR"
      },
      "source": [
        ""
      ],
      "execution_count": null,
      "outputs": []
    }
  ]
}
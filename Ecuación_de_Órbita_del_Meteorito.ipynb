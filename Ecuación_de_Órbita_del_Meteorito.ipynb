{
  "nbformat": 4,
  "nbformat_minor": 0,
  "metadata": {
    "colab": {
      "name": "Ecuación de Órbita del Meteorito.ipynb",
      "provenance": [],
      "authorship_tag": "ABX9TyPbkN4WKv77NWZfN0P2ZZOD",
      "include_colab_link": true
    },
    "kernelspec": {
      "name": "python3",
      "display_name": "Python 3"
    }
  },
  "cells": [
    {
      "cell_type": "markdown",
      "metadata": {
        "id": "view-in-github",
        "colab_type": "text"
      },
      "source": [
        "<a href=\"https://colab.research.google.com/github/araujoroberts/Proyectos/blob/main/Ecuaci%C3%B3n_de_%C3%93rbita_del_Meteorito.ipynb\" target=\"_parent\"><img src=\"https://colab.research.google.com/assets/colab-badge.svg\" alt=\"Open In Colab\"/></a>"
      ]
    },
    {
      "cell_type": "markdown",
      "metadata": {
        "id": "KbbrxVqDCC7o"
      },
      "source": [
        "#Planteamiento del problema\n",
        "\n",
        "Un meteorito se dirige a la casa blanca y nos interesa determinar su trayectoria, para esto necesitamos condiciones iniciales de posición y velocidad. Tomemos las siguientes:\n",
        "\n",
        "$$\n",
        "\\vec{r}_0=(\\ 0.50000000\\ ,\\ -6.5000000\\ ,\\ 4.5000000\\ ) \\ \\ \\ [\\ m\\ \\times\\ 10^6\\ ]\n",
        "$$\n",
        "\n",
        "$$\n",
        "\\vec{r}_f=(\\ 1.1123098\\ ,\\ -4.8319904\\ ,\\ 4.0005346\\ ) \\ \\ \\ [\\ m\\ \\times\\ 10^6\\ ]\n",
        "$$"
      ]
    },
    {
      "cell_type": "markdown",
      "metadata": {
        "id": "lTPfGKW4ONni"
      },
      "source": [
        "_____________________________________________________________________"
      ]
    },
    {
      "cell_type": "markdown",
      "metadata": {
        "id": "MxuRtfdrORRr"
      },
      "source": [
        "Inicializamos los vectores $\\ \\vec{r}_0\\ $ y $\\ \\vec{r}_f\\ $ "
      ]
    },
    {
      "cell_type": "code",
      "metadata": {
        "id": "Ec5iGzLNB7pr",
        "colab": {
          "base_uri": "https://localhost:8080/"
        },
        "outputId": "991a999f-d25f-4bda-8fed-01e8515369fa"
      },
      "source": [
        "import numpy as np\n",
        "import math\n",
        "\n",
        "#Posicion inicial del meteorito\n",
        "#r0=np.array([-3.3921932,-5.3551800,3.76132566])*10**6\n",
        "r0=np.array([0.5,-6.5,4.5])*10**6\n",
        "nr0=math.sqrt(r0@r0)\n",
        "\n",
        "#posicion del punto de impacto, the white house\n",
        "rf=np.array([9.96554695, -0.56978729,  9.17335717])*10**6#array([1.1123098,-4.8319904,4.0005346])#*10**6\n",
        "nrf=math.sqrt(rf@rf)\n",
        "nr0"
      ],
      "execution_count": 1,
      "outputs": [
        {
          "output_type": "execute_result",
          "data": {
            "text/plain": [
              "7921489.75887743"
            ]
          },
          "metadata": {
            "tags": []
          },
          "execution_count": 1
        }
      ]
    },
    {
      "cell_type": "markdown",
      "metadata": {
        "id": "8jD917fFjhvT"
      },
      "source": [
        "Ahora utilizamos los vectores anteriores para calcular la velocidad inicial como\n",
        "\n",
        "$$\n",
        "\\vec{v}_0=\\frac{\\vec{r}_f-\\vec{r}_0}{|\\vec{r}_f-\\vec{r}_0|} \\times 1000 \\ m/s\n",
        "$$"
      ]
    },
    {
      "cell_type": "code",
      "metadata": {
        "id": "XdbjYLXpkDpv"
      },
      "source": [
        "resta=rf-r0\n",
        "nresta=math.sqrt(resta@resta)\n",
        "resta=resta/nresta \n",
        "\n",
        "#Velocidad inicial del meteorito\n",
        "v0=resta*1366.85\n",
        "nv0=math.sqrt(v0@v0)"
      ],
      "execution_count": 2,
      "outputs": []
    },
    {
      "cell_type": "markdown",
      "metadata": {
        "id": "bip75ynbkZm9"
      },
      "source": [
        "De lo anterior obtenemos que la velocidad inicial resulta ser\n",
        "\n",
        "$$\n",
        "\\vec{v}_0=(\\ 1068.5461\\ ,\\ 669.44941\\ ,\\ 527.66566\\ ) \\ \\ \\ [\\ m/s \\ ] \n",
        "$$"
      ]
    },
    {
      "cell_type": "markdown",
      "metadata": {
        "id": "xe6oV6QSPOTu"
      },
      "source": [
        "Con ayuda de los vectores $\\ \\vec{r}_0 \\ $ y $\\ \\vec{r}_f \\ $ calculamos los vectores $\\ \\vec{i}\\ '\\ $ , $\\ \\vec{j}\\ '\\ $ , $\\ \\vec{k}\\ '\\ $ que conformaran la nueva base"
      ]
    },
    {
      "cell_type": "code",
      "metadata": {
        "colab": {
          "base_uri": "https://localhost:8080/"
        },
        "id": "z2xQlkgEOH1N",
        "outputId": "d3935ea7-48f8-4432-f3c7-4585ba54ffe2"
      },
      "source": [
        "#Vector unitario i'\n",
        "i=r0/nr0\n",
        "\n",
        "u=np.cross(i,rf/nrf)\n",
        "nu=math.sqrt(u@u)\n",
        "\n",
        "#vector unitario k'\n",
        "k=u/nu\n",
        "\n",
        "#Vector unitario j'\n",
        "j=np.cross(k,i)\n",
        "\n",
        "print('i\\'=',i)\n",
        "print('j\\'=',j)\n",
        "print('k\\'=',k)"
      ],
      "execution_count": 3,
      "outputs": [
        {
          "output_type": "stream",
          "text": [
            "i'= [ 0.06311944 -0.82055272  0.56807496]\n",
            "j'= [0.79728396 0.38383544 0.46584186]\n",
            "k'= [-0.60029511  0.42351338  0.678441  ]\n"
          ],
          "name": "stdout"
        }
      ]
    },
    {
      "cell_type": "markdown",
      "metadata": {
        "id": "II-B1N2BRdyA"
      },
      "source": [
        "Ahora que tenemos los vectores calculamos la matriz de transformacion haciendo\n",
        "\n",
        "\\begin{equation}\n",
        "\\mathbb M=\n",
        "\\begin{pmatrix}\n",
        "| & | & | \\\\\n",
        "\\vec{i}\\ ' & \\vec{j}\\ ' & \\vec{k}\\ '\\\\\n",
        "| & | & | \\\\\n",
        "\\end{pmatrix}\n",
        "\\end{equation}"
      ]
    },
    {
      "cell_type": "code",
      "metadata": {
        "colab": {
          "base_uri": "https://localhost:8080/"
        },
        "id": "e5Gz0IEFQG61",
        "outputId": "eec1223c-77df-46d0-8968-617b6293cd1e"
      },
      "source": [
        "#Matriz de cambio de base\n",
        "M=np.array([i,j,k])\n",
        "M=np.transpose(M)\n",
        "print('M=')\n",
        "print(M)"
      ],
      "execution_count": 4,
      "outputs": [
        {
          "output_type": "stream",
          "text": [
            "M=\n",
            "[[ 0.06311944  0.79728396 -0.60029511]\n",
            " [-0.82055272  0.38383544  0.42351338]\n",
            " [ 0.56807496  0.46584186  0.678441  ]]\n"
          ],
          "name": "stdout"
        }
      ]
    },
    {
      "cell_type": "markdown",
      "metadata": {
        "id": "lM7B0bxqSg6X"
      },
      "source": [
        "Ahora que tenemos la matriz de cambio de base, transformamos nuestras condiciones iniciales a la nueva base\n",
        "\n",
        "$$\n",
        "\\vec{r}_0\\ '=\\mathbb M \\cdot \\vec{r}_0\n",
        "$$\n",
        "\n",
        "$$\n",
        "\\vec{v}_0\\ '=\\mathbb M \\cdot \\vec{v}_0\n",
        "$$\n",
        "\n"
      ]
    },
    {
      "cell_type": "code",
      "metadata": {
        "colab": {
          "base_uri": "https://localhost:8080/"
        },
        "id": "eh-JKAp3Q4Y1",
        "outputId": "24eb6d8f-39df-4f3c-8d11-9b122539934b"
      },
      "source": [
        "r0t=np.linalg.solve(M,r0)\n",
        "nr0t=math.sqrt(r0t@r0t)\n",
        "\n",
        "v0t=np.linalg.solve(M,v0)\n",
        "nv0t=math.sqrt(v0t@v0t)\n",
        "print('r0\\'=',r0t)\n",
        "print(            )\n",
        "print('v0\\'=',v0t)"
      ],
      "execution_count": 5,
      "outputs": [
        {
          "output_type": "stream",
          "text": [
            "r0'= [ 7.92148976e+06 -3.06582673e-10 -3.97609917e-10]\n",
            "\n",
            "v0'= [-1.82175732e+02  1.35465528e+03 -1.26153906e-13]\n"
          ],
          "name": "stdout"
        }
      ]
    },
    {
      "cell_type": "markdown",
      "metadata": {
        "id": "LsUCjThHTcJh"
      },
      "source": [
        "Los vectores en la nueva base son\n",
        "\n",
        "$$\n",
        "\\vec{r}_0\\ '=(\\ 7.92148976\\ ,\\ 0\\ ,\\ 0\\ ) \\ \\ \\ [\\ m\\ \\times\\ 10^6\\ ]\n",
        "$$\n",
        "\n",
        "$$\n",
        "\\vec{v}_0\\ '=(\\ -182.17573\\ ,\\ 1,354.6553\\ ,\\ 0\\ ) \\ \\ \\ [\\ m/s \\ ] \n",
        "$$"
      ]
    },
    {
      "cell_type": "markdown",
      "metadata": {
        "id": "l5ZiC6huUbPh"
      },
      "source": [
        "_____________________________________________________________________"
      ]
    },
    {
      "cell_type": "markdown",
      "metadata": {
        "id": "qA59ERTnUfIe"
      },
      "source": [
        "Calculamos las magnitudes de estos vectores en la nueva base y las denotamos con \"$r$\" y \"$v$\""
      ]
    },
    {
      "cell_type": "code",
      "metadata": {
        "id": "PAXF0zgyTKfl",
        "colab": {
          "base_uri": "https://localhost:8080/"
        },
        "outputId": "fbc9b2a0-dd20-4701-d00f-fd8366a12f3c"
      },
      "source": [
        "r=nr0t\n",
        "v=nv0t\n",
        "print('r\\'=',r/1e6,'x10^6 metros')\n",
        "print( )\n",
        "print('v\\'=',v,'m/s')"
      ],
      "execution_count": 6,
      "outputs": [
        {
          "output_type": "stream",
          "text": [
            "r'= 7.9214897588774305 x10^6 metros\n",
            "\n",
            "v'= 1366.8500000000001 m/s\n"
          ],
          "name": "stdout"
        }
      ]
    },
    {
      "cell_type": "markdown",
      "metadata": {
        "id": "Dnt28RKVVKNq"
      },
      "source": [
        "Ahora definimos parametros importantes tales como\n",
        "\n",
        "$$\n",
        "m=5,000\\ kg \\ \\ , \\ \\ GM=3.9861352\\times 10^{14}\\ m^2/s^3 \n",
        "$$ \n",
        "\n",
        "Y algunas otras tales como\n",
        "\n",
        "$$\n",
        "\\vec{L}= \\vec{r} \\times \\vec{p} \\ \\ \\ \\ , \\ \\ \\  \\ l=L_z \\ \\ \\ \\ , \\ \\ \\ \\ E=\\frac{1}{2}mv^2+\\frac{l^2}{2mr^2}-\\frac{mGM}{r} \n",
        "$$"
      ]
    },
    {
      "cell_type": "code",
      "metadata": {
        "id": "SCpPjWOMULSc"
      },
      "source": [
        "# Establecemos las constantes\n",
        "m=5000.\n",
        "GM=3.9861352e14\n",
        "Rt=6.371e6\n",
        "\n",
        "# Calculamos L y l\n",
        "L=m*np.cross(r0t,v0t)\n",
        "l=math.sqrt(L@L)\n",
        "\n",
        "# Calculamos la energia\n",
        "E=0.5*m*v**2+l**2/(2*m*r**2)-m*GM/r"
      ],
      "execution_count": 7,
      "outputs": []
    },
    {
      "cell_type": "markdown",
      "metadata": {
        "id": "oBo83A0RWyWG"
      },
      "source": [
        "Con todas estas magnigtudes fisicas podemos calcular la ecuacion de la orbita que viene dada por\n",
        "\n",
        "$$\n",
        "r=\\frac{\\frac{l^2}{m^2GM}}{1+e\\ cos(\\phi-\\phi')} \\ \\ \\ \\ e=\\sqrt{1+\\frac{2E}{m^3}\\left(\\frac{l}{GM}\\right)^2}\n",
        "$$\n",
        "\n",
        "Vease la siguiente tabla de valores que relaciona la exentricidad con el tipo de orbita\n",
        "\n",
        "$$\n",
        "e=0 \\ \\ \\ \\ circunferencia\n",
        "$$ \n",
        "$$\n",
        "e< 1 \\ \\ \\ \\ \\ \\ \\ \\ \\ \\ \\ \\ \\ \\ \\ \\ \\  \\ \\ \\ \\ elipse\n",
        "$$ \n",
        "$$\n",
        "e=1 \\ \\ \\ \\ \\  \\ \\  \\ \\  \\ \\ \\ \\ \\ \\ \\ parabola\n",
        "$$ \n",
        "$$\n",
        "e>1 \\ \\  \\ \\ \\ \\ \\ \\ \\ \\ \\ \\ \\ \\ \\ hiperbola\n",
        "$$ "
      ]
    },
    {
      "cell_type": "code",
      "metadata": {
        "colab": {
          "base_uri": "https://localhost:8080/"
        },
        "id": "YX_qFSM7WoAP",
        "outputId": "659c718e-c916-465b-b09f-745971cf9da5"
      },
      "source": [
        "#Calculemos la excentricidad\n",
        "e=math.sqrt(1+2*E*l**2/(m**3*GM**2))\n",
        "e"
      ],
      "execution_count": 8,
      "outputs": [
        {
          "output_type": "execute_result",
          "data": {
            "text/plain": [
              "0.9642343111981878"
            ]
          },
          "metadata": {
            "tags": []
          },
          "execution_count": 8
        }
      ]
    },
    {
      "cell_type": "code",
      "metadata": {
        "colab": {
          "base_uri": "https://localhost:8080/"
        },
        "id": "XKwOEVtAXY_M",
        "outputId": "b02f0f83-9ba3-4a1e-fe1e-73f78e5c56d2"
      },
      "source": [
        "# Calculemos el termino del numerador\n",
        "A=l**2/(GM*m**2)\n",
        "A"
      ],
      "execution_count": 9,
      "outputs": [
        {
          "output_type": "execute_result",
          "data": {
            "text/plain": [
              "288881.208938698"
            ]
          },
          "metadata": {
            "tags": []
          },
          "execution_count": 9
        }
      ]
    },
    {
      "cell_type": "markdown",
      "metadata": {
        "id": "49nHDVm0XqiI"
      },
      "source": [
        "Con estas cantidades podemos concluir que la ecuacion de la orbita es\n",
        "\n",
        "$$\n",
        "r=\\frac{28.88121}{1+0.96423431cos \\phi} \\ \\ \\ [\\ km\\ ]\n",
        "$$"
      ]
    },
    {
      "cell_type": "markdown",
      "metadata": {
        "id": "1Ibwx3rruFIy"
      },
      "source": [
        "Ahora calculamos las constantes a, b y c\n",
        "\n",
        "$$\n",
        "a=-\\frac{mGM}{2E} \\ \\ \\ \\ \\ , \\ \\ \\ \\ \\ b=\\frac{l}{\\sqrt{-2mE}} \\ \\ \\ \\ \\ , \\ \\ \\ \\ \\ c=\\sqrt{a^2-b^2}\n",
        "$$\n",
        "\n"
      ]
    },
    {
      "cell_type": "code",
      "metadata": {
        "colab": {
          "base_uri": "https://localhost:8080/"
        },
        "id": "wObNqP603sou",
        "outputId": "f7331a29-5826-4cf4-979c-e6adae0495ee"
      },
      "source": [
        "a=-m*GM/(2*E)\n",
        "b=l/math.sqrt(-2*m*E)\n",
        "c=math.sqrt(a**2-b**2)\n",
        "\n",
        "a/1e6,b/1e6,c/1e6"
      ],
      "execution_count": 10,
      "outputs": [
        {
          "output_type": "execute_result",
          "data": {
            "text/plain": [
              "(4.112059654763421, 1.0899067686256938, 3.964989008816665)"
            ]
          },
          "metadata": {
            "tags": []
          },
          "execution_count": 10
        }
      ]
    },
    {
      "cell_type": "markdown",
      "metadata": {
        "id": "Tt5sZgdkp7aV"
      },
      "source": [
        "Su equivalente cartesiana es\n",
        "\n",
        "$$\n",
        "\\frac{(x-3.9649890)^2}{4.11205965^2}+\\frac{(y-0)^2}{1.0899067^2}=1\n",
        "$$\n"
      ]
    },
    {
      "cell_type": "markdown",
      "metadata": {
        "id": "rie0oP-6SUef"
      },
      "source": [
        "Lo anterior en cartesianas:\n",
        "\n",
        "$$\n",
        "x'=a\\ cos\\phi \\ \\ \\ \\ \\ , \\ \\ \\ \\ \\ y'=b\\ sin\\phi\n",
        "$$\n",
        "\n"
      ]
    },
    {
      "cell_type": "markdown",
      "metadata": {
        "id": "4glcpR5caDY2"
      },
      "source": [
        "Ahora evaluaremos la ecuacion en $\\ r_f\\ $ para encontrar $\\ \\phi_f\\ $  "
      ]
    },
    {
      "cell_type": "code",
      "metadata": {
        "id": "leWhjl11XjnW",
        "colab": {
          "base_uri": "https://localhost:8080/"
        },
        "outputId": "f2e3fba6-8d04-4369-c02f-e076f4f50432"
      },
      "source": [
        "phi=-math.acos((A/Rt-1)/e)\n",
        "print(phi*180/np.pi)"
      ],
      "execution_count": 11,
      "outputs": [
        {
          "output_type": "stream",
          "text": [
            "-171.91776126801173\n"
          ],
          "name": "stdout"
        }
      ]
    },
    {
      "cell_type": "markdown",
      "metadata": {
        "id": "xzfyFsJSaU1f"
      },
      "source": [
        "Ahora calculamos las coordenadas $\\ x_f'\\ $ y $\\ y_f'\\ $ que componen al vector $\\vec{r}_f\\ '$ o coordenadas del punto de impacto referidas a la base primada"
      ]
    },
    {
      "cell_type": "code",
      "metadata": {
        "colab": {
          "base_uri": "https://localhost:8080/"
        },
        "id": "TSKHa1onY2Tn",
        "outputId": "6fc9f00e-8af2-4275-f3cb-6ba01efb72dc"
      },
      "source": [
        "u2=2*math.atan(math.sqrt((1-e)/(1+e))*math.tan(phi/2))\n",
        "#u2=math.acos(e+6.371e6*math.cos(phi)/a)\n",
        "xt=Rt*math.cos(np.pi-phi)\n",
        "yt=-Rt*math.sin(np.pi-phi)\n",
        "\n",
        "rft=np.array([xt,yt,0.])\n",
        "rft[0]=\"{0:.1f}\".format(rft[0])\n",
        "rft[1]=\"{0:.2f}\".format(rft[1])\n",
        "print('rf\\'=',rft)\n",
        "print(math.sqrt(rft@rft)/1e6)"
      ],
      "execution_count": 12,
      "outputs": [
        {
          "output_type": "stream",
          "text": [
            "rf'= [6307718.7   895726.45       0.  ]\n",
            "6.371000005616017\n"
          ],
          "name": "stdout"
        }
      ]
    },
    {
      "cell_type": "markdown",
      "metadata": {
        "id": "BQLHmshtau65"
      },
      "source": [
        "Ahora que tenemos el vector $\\ \\vec{r}_f\\ '\\ $ calculamos su equivalente en la base de referencia mediante\n",
        "\n",
        "$$\n",
        "\\vec{r}_f=\\mathbb M ^{-1} \\cdot \\vec{r}_f\\ '\n",
        "$$"
      ]
    },
    {
      "cell_type": "code",
      "metadata": {
        "id": "fTtmrqTKZxGx"
      },
      "source": [
        "N=np.linalg.inv(M)\n",
        "\n",
        "rf2=np.linalg.solve(N,rft)\n",
        "nrf2=math.sqrt(rf2@rf2)"
      ],
      "execution_count": 13,
      "outputs": []
    },
    {
      "cell_type": "markdown",
      "metadata": {
        "id": "nkKOv0GXchFo"
      },
      "source": [
        "Pasamos estas coordenadas de cartesianas a terrestres\n"
      ]
    },
    {
      "cell_type": "code",
      "metadata": {
        "colab": {
          "base_uri": "https://localhost:8080/"
        },
        "id": "telWFNmlMr5R",
        "outputId": "179fb021-2067-4871-fdc9-496b7ffda7b4"
      },
      "source": [
        "x__=rf2[0] ; y__=rf2[1] ; z__=rf2[2]\n",
        "\n",
        "if z__>0:\n",
        "\ttheta__=math.atan(math.sqrt(x__**2+y__**2)/z__)\n",
        "\n",
        "if (z__<0.):\n",
        "\ttheta__=np.pi+math.atan(math.sqrt(x__**2+y__**2)/z__)\n",
        "\n",
        "\n",
        "if (x__>0. and y__>0.):\n",
        "\tphi__=math.atan(y__/x__)\n",
        "\n",
        "if (x__>0. and y__<0.):\n",
        "\tphi__=2*np.pi+math.atan(y__/x__)\n",
        "\n",
        "if (x__<0. and y__>0. or x__<0. and y__<0):\n",
        "\tphi__=np.pi+math.atan(y__/x__)\n",
        "\n",
        "phi__=phi__*180/np.pi\n",
        "theta__=theta__*180/np.pi\n",
        "\n",
        "print('phi=',phi__,'theta=',theta__)"
      ],
      "execution_count": 14,
      "outputs": [
        {
          "output_type": "stream",
          "text": [
            "phi= 282.9632042162626 theta= 51.10264277638966\n"
          ],
          "name": "stdout"
        }
      ]
    },
    {
      "cell_type": "code",
      "metadata": {
        "colab": {
          "base_uri": "https://localhost:8080/"
        },
        "id": "DUp56lTSMu4a",
        "outputId": "9700837b-c20c-44d4-8503-eae3443e62c1"
      },
      "source": [
        "if (phi__>=0. and phi__<=180.):\n",
        "\tlong__=phi__\n",
        "\n",
        "if (phi__>180. and phi__<360):\n",
        "\tlong__=360-phi__\n",
        "\tlong__=-long__\n",
        "\n",
        " \n",
        "if (theta__>0. and theta__<90):\n",
        "\tlat__=90.-theta__\n",
        "\n",
        "if (theta__>270. and theta__<360.):\n",
        "\tlat__=theta__-90.\n",
        "\tlat__=-lat__\n",
        "\n",
        "print(''+str(\"{0:.6f}\".format(lat__))+',',\"{0:.6f}\".format(long__))\n"
      ],
      "execution_count": 15,
      "outputs": [
        {
          "output_type": "stream",
          "text": [
            "38.897357, -77.036796\n"
          ],
          "name": "stdout"
        }
      ]
    },
    {
      "cell_type": "code",
      "metadata": {
        "id": "OPlc7NDe05Uz"
      },
      "source": [
        ""
      ],
      "execution_count": 15,
      "outputs": []
    }
  ]
}
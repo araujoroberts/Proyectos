{
  "nbformat": 4,
  "nbformat_minor": 0,
  "metadata": {
    "colab": {
      "name": "Applications of the Monte Carlo Method.ipynb",
      "provenance": [],
      "authorship_tag": "ABX9TyOm+z1nhSa+GAj6PoKEUDxd",
      "include_colab_link": true
    },
    "kernelspec": {
      "name": "python3",
      "display_name": "Python 3"
    }
  },
  "cells": [
    {
      "cell_type": "markdown",
      "metadata": {
        "id": "view-in-github",
        "colab_type": "text"
      },
      "source": [
        "<a href=\"https://colab.research.google.com/github/araujoroberts/Proyectos/blob/main/Applications_of_the_Monte_Carlo_Method.ipynb\" target=\"_parent\"><img src=\"https://colab.research.google.com/assets/colab-badge.svg\" alt=\"Open In Colab\"/></a>"
      ]
    },
    {
      "cell_type": "markdown",
      "metadata": {
        "id": "5CUqPN9Btnja"
      },
      "source": [
        "#Calculation of pi by using the Monte Carlo Method\n",
        "Imagine we have a circle within a square in such a way that the circle diameter perfectly fits with the square side length. In this case, if we devide the areas:\n",
        "$$\n",
        "\\frac{A_{circle}}{A_{square}}=\\frac{\\pi r^2}{(2r)^2}=\\frac{\\pi}{4}\n",
        "$$\n",
        "So, $\\pi$ results to be:\n",
        "$$\n",
        "\\pi=4\\frac{A_{circle}}{A_{square}}\n",
        "$$\n",
        "Now, if we regard this \"areas\" as if they were points we can use random numbers to approximate $\\pi$, this is the so-called Monte Carlo Method. What this means is:\n",
        "$$\n",
        "\\pi=4\\frac{N_{circle}}{N_{square}}\n",
        "$$"
      ]
    },
    {
      "cell_type": "code",
      "metadata": {
        "colab": {
          "base_uri": "https://localhost:8080/",
          "height": 316
        },
        "id": "DPJ2HUm2n8ds",
        "outputId": "af4cb576-5a11-4a5a-8dab-02bec6b1b076"
      },
      "source": [
        "\n",
        "from numpy import random\n",
        "import numpy as np\n",
        "import matplotlib.pyplot as plt\n",
        "\n",
        "N=100000  #darts thrown\n",
        "\n",
        "#Lists that save the darts coordinates in the circle\n",
        "circlex=[]\n",
        "circley=[]\n",
        "#Lists that save the darts coordinates in the square\n",
        "squarex=[]\n",
        "squarey=[]\n",
        "\n",
        "i=0\n",
        "\n",
        "while i<N:\n",
        "  x=random.uniform(-1,1)\n",
        "  y=random.uniform(-1,1)\n",
        "  if (x**2+y**2<=1):\n",
        "    circlex.append(x)\n",
        "    circley.append(y)\n",
        "  else:\n",
        "    squarex.append(x)\n",
        "    squarey.append(y)\n",
        "  i+=1\n",
        "\n",
        "\n",
        "pi=4*len(circlex)/N\n",
        "print(\"Pi is approximately \",pi)\n",
        "er=abs(np.pi-pi)/np.pi*100\n",
        "print(\"The error is \"+str(er)+'%')\n",
        "\n",
        "plt.plot(circlex,circley,'b.')\n",
        "plt.plot(squarex,squarey,'g.')\n",
        "plt.title('Approximation of pi by Monte Carlo Method')\n",
        "plt.grid()"
      ],
      "execution_count": 22,
      "outputs": [
        {
          "output_type": "stream",
          "text": [
            "Pi is approximately  3.14344\n",
            "The error is 0.058802862557499135%\n"
          ],
          "name": "stdout"
        },
        {
          "output_type": "display_data",
          "data": {
            "image/png": "[encoded data removed]",
            "text/plain": [
              "<Figure size 432x288 with 1 Axes>"
            ]
          },
          "metadata": {
            "tags": [],
            "needs_background": "light"
          }
        }
      ]
    },
    {
      "cell_type": "markdown",
      "metadata": {
        "id": "F5hv8njUt6Ln"
      },
      "source": [
        "#Calculating an integral by Monte Carlo Method\n",
        "The mean value of an integral is given by\n",
        "$$\n",
        "\\langle f \\rangle=\\frac{1}{b-a}\\int_a^bf(x)dx\n",
        "$$\n",
        "Thus, the integral can be calculated by doing\n",
        "$$\n",
        "\\int_a^bf(x)dx=(b-a)\\langle f \\rangle\n",
        "$$\n",
        "Using the statistic we know that\n",
        "$$\n",
        "\\langle f \\rangle = \\frac{1}{N}\\sum_{i=1}f(x_i)\n",
        "$$\n",
        "Then, substituting this\n",
        "$$\n",
        "\\int_a^bf(x)dx=(b-a)\\frac{1}{N}\\sum_{i=1}f(x_i)\n",
        "$$"
      ]
    },
    {
      "cell_type": "code",
      "metadata": {
        "colab": {
          "base_uri": "https://localhost:8080/"
        },
        "id": "IW9X6gvhp-r2",
        "outputId": "8bd01e81-02a6-44c3-a241-642d212b4178"
      },
      "source": [
        "from scipy import random\n",
        "import numpy as np\n",
        "import matplotlib.pyplot as plt\n",
        "\n",
        "#limits of integration\n",
        "a=0.\n",
        "b=np.pi\n",
        "N=1000\n",
        "xrand=random.uniform(a,b,N)\n",
        "\n",
        "def f(x):\n",
        "  return np.sin(x)\n",
        "\n",
        "answer=(b-a)/N*integral\n",
        "\n",
        "print('The area is ',answer)\n",
        "er=abs((1-np.cos(np.pi))-answer)\n",
        "print(\"the error is\",er)\n",
        "\n",
        "\n",
        "\n",
        "\n"
      ],
      "execution_count": 64,
      "outputs": [
        {
          "output_type": "stream",
          "text": [
            "The area is  2.001759914316937\n",
            "the error is 0.0017599143169371168\n"
          ],
          "name": "stdout"
        }
      ]
    },
    {
      "cell_type": "code",
      "metadata": {
        "id": "B5ZPtKcsyvur"
      },
      "source": [
        ""
      ],
      "execution_count": 25,
      "outputs": []
    }
  ]
}
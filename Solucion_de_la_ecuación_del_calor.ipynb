{
  "nbformat": 4,
  "nbformat_minor": 0,
  "metadata": {
    "colab": {
      "name": "Solucion de la ecuación del calor.ipynb",
      "provenance": [],
      "authorship_tag": "ABX9TyN1Qsb/tuoSDd3xSeDidNvC",
      "include_colab_link": true
    },
    "kernelspec": {
      "name": "python3",
      "display_name": "Python 3"
    }
  },
  "cells": [
    {
      "cell_type": "markdown",
      "metadata": {
        "id": "view-in-github",
        "colab_type": "text"
      },
      "source": [
        "<a href=\"https://colab.research.google.com/github/araujoroberts/Proyectos/blob/main/Solucion_de_la_ecuaci%C3%B3n_del_calor.ipynb\" target=\"_parent\"><img src=\"https://colab.research.google.com/assets/colab-badge.svg\" alt=\"Open In Colab\"/></a>"
      ]
    },
    {
      "cell_type": "markdown",
      "metadata": {
        "id": "erX3upLAw2HH"
      },
      "source": [
        "#Solucition of heat equation by using the finite-differences method\n",
        "The 1D heat equation is given by\n",
        "$$\n",
        "\\frac{\\partial u}{\\partial t}=\\alpha\\frac{\\partial^2u}{\\partial x^2}\n",
        "$$\n",
        "We're going to solve it by introducing the operators:\n",
        "\n",
        "$$\n",
        "\\frac{\\partial u}{\\partial t}\\approx \\frac{u(x,t+dt)-u(x,t)}{dt}\n",
        "$$\n",
        "\n",
        "$$\n",
        "\\frac{\\partial^2 u}{\\partial x^2}\\approx \\frac{u(x+dx,t)-2u(x,t)+u(x-dx,t)}{dx^2}\n",
        "$$\n",
        "\n",
        "The first one represent the forward finite difference, while the second one represent the centered finite difference.\n",
        "\n",
        "Now, let's put this in code notation, where \"$i$\" will represent the time index and \"$k$\" will represent the spatial index.\n",
        "\n",
        "$$\n",
        "\\frac{\\partial u}{\\partial t}\\approx \\frac{u^{i+1}_k-u^i_k}{dt}\n",
        "$$\n",
        "\n",
        "And\n",
        "\n",
        "$$\n",
        "\\frac{\\partial^2 u}{\\partial x^2}\\approx \\frac{u^i_{k+1}-2u^i_k+u^i_{k-1}}{dx^2}\n",
        "$$\n",
        "\n",
        "Substituting this in head equations:\n",
        "\n",
        "$$\n",
        "\\frac{u^{i+1}_k-u^i_k}{dt}=\\alpha \\frac{u^i_{k+1}-2u^i_k+u^i_{k-1}}{dx^2}\n",
        "$$\n",
        "\n",
        "Solving for $u^{i+1}_k$:\n",
        "\n",
        "$$\n",
        "u^{i+1}_k= \\alpha \\frac{dt}{dx^2} ( u^i_{k+1}-2u^i_k+u^i_{k-1} )+u^i_k\n",
        "$$\n",
        "\n",
        "And this is the equation we are interested in solving"
      ]
    },
    {
      "cell_type": "markdown",
      "metadata": {
        "id": "3LoQkAsk17Si"
      },
      "source": [
        "# Stability criterion\n",
        "for our equation to converge we need that the following criterion is fulfill:\n",
        "\n",
        "$$\n",
        "dt<\\frac{dx^2}{2\\alpha}\n",
        "$$\n",
        "\n",
        "Thus, we must choose very well our scheme in order to assure the convergence"
      ]
    },
    {
      "cell_type": "code",
      "metadata": {
        "id": "6H4ETT8k25dL"
      },
      "source": [
        "# Importing libraries\n",
        "import numpy as np\n",
        "import matplotlib as plt"
      ],
      "execution_count": 23,
      "outputs": []
    },
    {
      "cell_type": "code",
      "metadata": {
        "id": "02-QXEMQwv6Z",
        "outputId": "39baa42f-dc39-4569-9126-c8a6a67d5afe",
        "colab": {
          "base_uri": "https://localhost:8080/",
          "height": 34
        }
      },
      "source": [
        "# First let's define our simulation parameters\n",
        "l=1.0\n",
        "alpha=0.1\n",
        "\n",
        "# Discretizing\n",
        "n=5\n",
        "x=np.linspace(0,l,n)\n",
        "dx=l/(n-1)\n",
        "\n",
        "# Initial conditions\n",
        "t=0.\n",
        "uinit=1000.\n",
        "u=np.ones(n)*uinit\n",
        "\n",
        "# Boundary conditions\n",
        "u0=25. \n",
        "ul=100.\n",
        "u[0]=u0\n",
        "u[-1]=ul\n",
        "print(\"The initial temperature vector is\" +str(u))"
      ],
      "execution_count": 24,
      "outputs": [
        {
          "output_type": "stream",
          "text": [
            "The initial temperature vector is[  25. 1000. 1000. 1000.  100.]\n"
          ],
          "name": "stdout"
        }
      ]
    },
    {
      "cell_type": "code",
      "metadata": {
        "id": "bpLIP7Xr3YrE",
        "outputId": "4d9df78b-2567-4283-9f59-30e1d090cfac",
        "colab": {
          "base_uri": "https://localhost:8080/",
          "height": 34
        }
      },
      "source": [
        "# Stability criterion\n",
        "dt_stable=dx**2/(2*alpha)\n",
        "print(dt_stable)"
      ],
      "execution_count": 25,
      "outputs": [
        {
          "output_type": "stream",
          "text": [
            "0.3125\n"
          ],
          "name": "stdout"
        }
      ]
    },
    {
      "cell_type": "code",
      "metadata": {
        "id": "Dk-heRJO4sbN",
        "outputId": "28237ea0-5590-42b5-bb28-c19eceffa161",
        "colab": {
          "base_uri": "https://localhost:8080/",
          "height": 132
        }
      },
      "source": [
        "# Setting up the dt stable\n",
        "dt=0.1\n",
        "\n",
        "# Solution over time\n",
        "t_end=20.\n",
        "\n",
        "# Let's define another temperature vector which is in charge of save the temperatures in the next step of the simulation\n",
        "udt=u.copy()\n",
        "\n",
        "# Now let's define the vector which is in charge of saving the temperatures vectors at each time step\n",
        "usol=[u]\n",
        "tsol=[t]\n",
        "\n",
        "while t<=t_end:\n",
        "  for i in range (n):\n",
        "    if i==0:\n",
        "      u[i]=u0\n",
        "    elif i==l:\n",
        "      u[i]=ul\n",
        "    else:\n",
        "      udt[i]=((alpha*dt/dx**2)*(u[i+1]-2*u[i]+u[i-1])+u[i]\n",
        "  u=udt.copy()\n",
        "  t=t+dt\n",
        "  usol.append(udt)\n",
        "  tsol.append(t)\n",
        "  print(u)\n"
      ],
      "execution_count": 36,
      "outputs": [
        {
          "output_type": "error",
          "ename": "SyntaxError",
          "evalue": "ignored",
          "traceback": [
            "\u001b[0;36m  File \u001b[0;32m\"<ipython-input-36-df4bf925da28>\"\u001b[0;36m, line \u001b[0;32m23\u001b[0m\n\u001b[0;31m    t=t+dt\u001b[0m\n\u001b[0m    ^\u001b[0m\n\u001b[0;31mSyntaxError\u001b[0m\u001b[0;31m:\u001b[0m invalid syntax\n"
          ]
        }
      ]
    },
    {
      "cell_type": "code",
      "metadata": {
        "id": "sGyuHoWFDgqj"
      },
      "source": [
        ""
      ],
      "execution_count": null,
      "outputs": []
    }
  ]
}
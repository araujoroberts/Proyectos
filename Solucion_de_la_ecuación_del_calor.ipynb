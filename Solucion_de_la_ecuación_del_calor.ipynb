{
  "nbformat": 4,
  "nbformat_minor": 0,
  "metadata": {
    "colab": {
      "name": "Solucion de la ecuación del calor.ipynb",
      "provenance": [],
      "authorship_tag": "ABX9TyP0L2DPkrVzJrU0MT7Cizdg",
      "include_colab_link": true
    },
    "kernelspec": {
      "name": "python3",
      "display_name": "Python 3"
    }
  },
  "cells": [
    {
      "cell_type": "markdown",
      "metadata": {
        "id": "view-in-github",
        "colab_type": "text"
      },
      "source": [
        "<a href=\"https://colab.research.google.com/github/araujoroberts/Proyectos/blob/main/Solucion_de_la_ecuaci%C3%B3n_del_calor.ipynb\" target=\"_parent\"><img src=\"https://colab.research.google.com/assets/colab-badge.svg\" alt=\"Open In Colab\"/></a>"
      ]
    },
    {
      "cell_type": "markdown",
      "metadata": {
        "id": "erX3upLAw2HH"
      },
      "source": [
        "#Solucition of heat equation by using the finite-differences method\n",
        "The 1D heat equation is given by\n",
        "$$\n",
        "\\frac{\\partial u}{\\partial t}=\\alpha\\frac{\\partial^2u}{\\partial x^2}\n",
        "$$\n",
        "We're going to solve it by introducing the operators:\n",
        "\n",
        "$$\n",
        "\\frac{\\partial u}{\\partial t}\\approx \\frac{u(x,t+dt)-u(x,t)}{dt}\n",
        "$$\n",
        "\n",
        "$$\n",
        "\\frac{\\partial^2 u}{\\partial x^2}\\approx \\frac{u(x+dx,t)-2u(x,t)+u(x-dx,t)}{dx^2}\n",
        "$$\n",
        "\n",
        "The first one represent the forward finite difference, while the second one represent the centered finite difference.\n",
        "\n",
        "Now, let's put this in code notation, where \"$i$\" will represent the time index and \"$k$\" will represent the spatial index.\n",
        "\n",
        "$$\n",
        "\\frac{\\partial u}{\\partial t}\\approx \\frac{u^{i+1}_k-u^i_k}{dt}\n",
        "$$\n",
        "\n",
        "And\n",
        "\n",
        "$$\n",
        "\\frac{\\partial^2 u}{\\partial x^2}\\approx \\frac{u^i_{k+1}-2u^i_k+u^i_{k-1}}{dx^2}\n",
        "$$\n",
        "\n",
        "Substituting this in head equations:\n",
        "\n",
        "$$\n",
        "\\frac{u^{i+1}_k-u^i_k}{dt}=\\alpha \\frac{u^i_{k+1}-2u^i_k+u^i_{k-1}}{dx^2}\n",
        "$$\n",
        "\n",
        "Solving for $u^{i+1}_k$:\n",
        "\n",
        "$$\n",
        "u^{i+1}_k= \\alpha \\frac{dt}{dx^2} ( u^i_{k+1}-2u^i_k+u^i_{k-1} )+u^i_k\n",
        "$$\n",
        "\n",
        "And this is the equation we are interested in solving"
      ]
    },
    {
      "cell_type": "markdown",
      "metadata": {
        "id": "3LoQkAsk17Si"
      },
      "source": [
        "# Stability criterion\n",
        "for our equation to converge we need that the following criterion is fulfill:\n",
        "\n",
        "$$\n",
        "dt<\\frac{dx^2}{2\\alpha}\n",
        "$$\n",
        "\n",
        "Thus, we must choose very well our scheme in order to assure the convergence"
      ]
    },
    {
      "cell_type": "code",
      "metadata": {
        "id": "6H4ETT8k25dL"
      },
      "source": [
        "# Importing libraries\n",
        "import numpy as np\n",
        "import matplotlib.pyplot as plt"
      ],
      "execution_count": 69,
      "outputs": []
    },
    {
      "cell_type": "code",
      "metadata": {
        "id": "02-QXEMQwv6Z",
        "outputId": "0f73190f-ff04-4147-b638-6213f85ff304",
        "colab": {
          "base_uri": "https://localhost:8080/",
          "height": 34
        }
      },
      "source": [
        "# First let's define our simulation parameters\n",
        "l=1.0\n",
        "alpha=0.1\n",
        "\n",
        "# Discretizing\n",
        "n=5\n",
        "x=np.linspace(0,l,n)\n",
        "dx=l/(n-1)\n",
        "\n",
        "# Initial conditions\n",
        "t=0.\n",
        "uinit=1000.\n",
        "u=np.ones(n)*uinit\n",
        "\n",
        "# Boundary conditions\n",
        "u0=25. \n",
        "ul=100.\n",
        "# The one above aplied to our temperature vector\n",
        "u[0]=u0\n",
        "u[-1]=ul\n",
        "print(\"The initial temperature vector is\" +str(u))"
      ],
      "execution_count": 70,
      "outputs": [
        {
          "output_type": "stream",
          "text": [
            "The initial temperature vector is[  25. 1000. 1000. 1000.  100.]\n"
          ],
          "name": "stdout"
        }
      ]
    },
    {
      "cell_type": "code",
      "metadata": {
        "id": "bpLIP7Xr3YrE",
        "outputId": "1fee6846-e4a2-4db1-cfe3-59e4eeee73d9",
        "colab": {
          "base_uri": "https://localhost:8080/",
          "height": 34
        }
      },
      "source": [
        "# Stability criterion\n",
        "dt_stable=dx**2/(2*alpha)\n",
        "print(dt_stable)"
      ],
      "execution_count": 71,
      "outputs": [
        {
          "output_type": "stream",
          "text": [
            "0.3125\n"
          ],
          "name": "stdout"
        }
      ]
    },
    {
      "cell_type": "code",
      "metadata": {
        "id": "Dk-heRJO4sbN",
        "outputId": "cc1f8655-8d4e-49b5-d572-2091c06f536f",
        "colab": {
          "base_uri": "https://localhost:8080/",
          "height": 473
        }
      },
      "source": [
        "# Setting up the dt stable\n",
        "dt=0.1\n",
        "\n",
        "# Solution over time\n",
        "t_end=20.\n",
        "\n",
        "# Let's define another temperature vector which is in charge of save the temperatures in the next step of the simulation\n",
        "udt=u.copy()\n",
        "\n",
        "# Now let's define the vector which is in charge of saving the temperatures vectors at each time step\n",
        "# At this point these are acting as initial conditions\n",
        "usol=[u]\n",
        "tsol=[t]\n",
        "\n",
        "while t<=t_end:\n",
        "  for i in range (n-1):\n",
        "    if i==0:\n",
        "      u[i]=u0\n",
        "    elif i==l:\n",
        "      u[i]=ul\n",
        "    else:\n",
        "      udt[i]=alpha*dt/(dx**2)*(u[i+1]-2*u[i]+u[i-1])+u[i]\n",
        "  u=udt.copy()\n",
        "  t=t+dt\n",
        "  usol.append(udt)\n",
        "  tsol.append(t)\n",
        "\n",
        "# Animation\n",
        "import matplotlib.animation as animation\n",
        "fig=plt.figure()\n",
        "ax=plt.gca()\n",
        "\n",
        "def actualizar(i):\n",
        "  ax.clear()\n",
        "  plt.plot(x,usol[i],'r')\n",
        "  plt.title(str(round(usol[i],5)))\n",
        "  plt.xlim(0,l)\n",
        "  plt.ylim=(0,1000)\n",
        "\n",
        "ani=animation.FuncAnimation(fig,actualizar,range(len(usol)))\n",
        "plt.show()\n"
      ],
      "execution_count": 72,
      "outputs": [
        {
          "output_type": "stream",
          "text": [
            "Traceback (most recent call last):\n",
            "  File \"/usr/local/lib/python3.6/dist-packages/matplotlib/cbook/__init__.py\", line 196, in process\n",
            "    func(*args, **kwargs)\n",
            "  File \"/usr/local/lib/python3.6/dist-packages/matplotlib/animation.py\", line 951, in _start\n",
            "    self._init_draw()\n",
            "  File \"/usr/local/lib/python3.6/dist-packages/matplotlib/animation.py\", line 1743, in _init_draw\n",
            "    self._draw_frame(next(self.new_frame_seq()))\n",
            "  File \"/usr/local/lib/python3.6/dist-packages/matplotlib/animation.py\", line 1766, in _draw_frame\n",
            "    self._drawn_artists = self._func(framedata, *self._args)\n",
            "  File \"<ipython-input-72-381a62c8f13c>\", line 36, in actualizar\n",
            "    plt.title(str(round(usol[i],5)))\n",
            "TypeError: type numpy.ndarray doesn't define __round__ method\n"
          ],
          "name": "stderr"
        },
        {
          "output_type": "display_data",
          "data": {
            "image/png": "[encoded data removed]",
            "text/plain": [
              "<Figure size 432x288 with 1 Axes>"
            ]
          },
          "metadata": {
            "tags": [],
            "needs_background": "light"
          }
        }
      ]
    },
    {
      "cell_type": "code",
      "metadata": {
        "id": "sGyuHoWFDgqj"
      },
      "source": [
        "#"
      ],
      "execution_count": null,
      "outputs": []
    }
  ]
}